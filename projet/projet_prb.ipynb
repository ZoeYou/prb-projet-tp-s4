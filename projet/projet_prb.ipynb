{
 "cells": [
  {
   "cell_type": "code",
   "execution_count": 1,
   "metadata": {},
   "outputs": [],
   "source": [
    "import numpy as np\n",
    "import pandas as pd \n",
    "\n",
    "import matplotlib.pyplot as plt \n",
    "from matplotlib import cm\n",
    "\n",
    "import sklearn\n",
    "from sklearn import metrics, datasets\n",
    "from sklearn.cluster import KMeans, AgglomerativeClustering\n",
    "from mpl_toolkits.mplot3d import Axes3D\n",
    "from sklearn.preprocessing import scale\n",
    "\n",
    "import sklearn.metrics as sm \n",
    "from sklearn.metrics import confusion_matrix, classification_report, silhouette_score,silhouette_samples\n",
    "\n",
    "import scipy.cluster.hierarchy as shc\n",
    "from scipy.cluster.vq import kmeans2, whiten"
   ]
  },
  {
   "cell_type": "code",
   "execution_count": 2,
   "metadata": {},
   "outputs": [],
   "source": [
    "%matplotlib inline\n",
    "plt.rcParams['figure.figsize']=7,5"
   ]
  },
  {
   "cell_type": "markdown",
   "metadata": {},
   "source": [
    "Dans ce projet, nous allons classer des chiffres manuscrits en exploitant l’algorithme des K-moyennes\n",
    "sur \"Optical Recognition of Handwritten Digits\" DataSet."
   ]
  },
  {
   "cell_type": "markdown",
   "metadata": {},
   "source": [
    "# Présentation des données"
   ]
  },
  {
   "cell_type": "markdown",
   "metadata": {},
   "source": [
    "Tout d'abord, nous avons notre ensemble de données dans cette structure : "
   ]
  },
  {
   "cell_type": "code",
   "execution_count": 3,
   "metadata": {},
   "outputs": [
    {
     "data": {
      "text/html": [
       "<div>\n",
       "<style scoped>\n",
       "    .dataframe tbody tr th:only-of-type {\n",
       "        vertical-align: middle;\n",
       "    }\n",
       "\n",
       "    .dataframe tbody tr th {\n",
       "        vertical-align: top;\n",
       "    }\n",
       "\n",
       "    .dataframe thead th {\n",
       "        text-align: right;\n",
       "    }\n",
       "</style>\n",
       "<table border=\"1\" class=\"dataframe\">\n",
       "  <thead>\n",
       "    <tr style=\"text-align: right;\">\n",
       "      <th></th>\n",
       "      <th>0</th>\n",
       "      <th>1</th>\n",
       "      <th>2</th>\n",
       "      <th>3</th>\n",
       "      <th>4</th>\n",
       "      <th>5</th>\n",
       "      <th>6</th>\n",
       "      <th>7</th>\n",
       "      <th>8</th>\n",
       "      <th>9</th>\n",
       "      <th>...</th>\n",
       "      <th>55</th>\n",
       "      <th>56</th>\n",
       "      <th>57</th>\n",
       "      <th>58</th>\n",
       "      <th>59</th>\n",
       "      <th>60</th>\n",
       "      <th>61</th>\n",
       "      <th>62</th>\n",
       "      <th>63</th>\n",
       "      <th>64</th>\n",
       "    </tr>\n",
       "  </thead>\n",
       "  <tbody>\n",
       "    <tr>\n",
       "      <td>0</td>\n",
       "      <td>0</td>\n",
       "      <td>1</td>\n",
       "      <td>6</td>\n",
       "      <td>15</td>\n",
       "      <td>12</td>\n",
       "      <td>1</td>\n",
       "      <td>0</td>\n",
       "      <td>0</td>\n",
       "      <td>0</td>\n",
       "      <td>7</td>\n",
       "      <td>...</td>\n",
       "      <td>0</td>\n",
       "      <td>0</td>\n",
       "      <td>0</td>\n",
       "      <td>6</td>\n",
       "      <td>14</td>\n",
       "      <td>7</td>\n",
       "      <td>1</td>\n",
       "      <td>0</td>\n",
       "      <td>0</td>\n",
       "      <td>0</td>\n",
       "    </tr>\n",
       "    <tr>\n",
       "      <td>1</td>\n",
       "      <td>0</td>\n",
       "      <td>0</td>\n",
       "      <td>10</td>\n",
       "      <td>16</td>\n",
       "      <td>6</td>\n",
       "      <td>0</td>\n",
       "      <td>0</td>\n",
       "      <td>0</td>\n",
       "      <td>0</td>\n",
       "      <td>7</td>\n",
       "      <td>...</td>\n",
       "      <td>0</td>\n",
       "      <td>0</td>\n",
       "      <td>0</td>\n",
       "      <td>10</td>\n",
       "      <td>16</td>\n",
       "      <td>15</td>\n",
       "      <td>3</td>\n",
       "      <td>0</td>\n",
       "      <td>0</td>\n",
       "      <td>0</td>\n",
       "    </tr>\n",
       "    <tr>\n",
       "      <td>2</td>\n",
       "      <td>0</td>\n",
       "      <td>0</td>\n",
       "      <td>8</td>\n",
       "      <td>15</td>\n",
       "      <td>16</td>\n",
       "      <td>13</td>\n",
       "      <td>0</td>\n",
       "      <td>0</td>\n",
       "      <td>0</td>\n",
       "      <td>1</td>\n",
       "      <td>...</td>\n",
       "      <td>0</td>\n",
       "      <td>0</td>\n",
       "      <td>0</td>\n",
       "      <td>9</td>\n",
       "      <td>14</td>\n",
       "      <td>0</td>\n",
       "      <td>0</td>\n",
       "      <td>0</td>\n",
       "      <td>0</td>\n",
       "      <td>7</td>\n",
       "    </tr>\n",
       "    <tr>\n",
       "      <td>3</td>\n",
       "      <td>0</td>\n",
       "      <td>0</td>\n",
       "      <td>0</td>\n",
       "      <td>3</td>\n",
       "      <td>11</td>\n",
       "      <td>16</td>\n",
       "      <td>0</td>\n",
       "      <td>0</td>\n",
       "      <td>0</td>\n",
       "      <td>0</td>\n",
       "      <td>...</td>\n",
       "      <td>0</td>\n",
       "      <td>0</td>\n",
       "      <td>0</td>\n",
       "      <td>0</td>\n",
       "      <td>1</td>\n",
       "      <td>15</td>\n",
       "      <td>2</td>\n",
       "      <td>0</td>\n",
       "      <td>0</td>\n",
       "      <td>4</td>\n",
       "    </tr>\n",
       "    <tr>\n",
       "      <td>4</td>\n",
       "      <td>0</td>\n",
       "      <td>0</td>\n",
       "      <td>5</td>\n",
       "      <td>14</td>\n",
       "      <td>4</td>\n",
       "      <td>0</td>\n",
       "      <td>0</td>\n",
       "      <td>0</td>\n",
       "      <td>0</td>\n",
       "      <td>0</td>\n",
       "      <td>...</td>\n",
       "      <td>0</td>\n",
       "      <td>0</td>\n",
       "      <td>0</td>\n",
       "      <td>4</td>\n",
       "      <td>12</td>\n",
       "      <td>14</td>\n",
       "      <td>7</td>\n",
       "      <td>0</td>\n",
       "      <td>0</td>\n",
       "      <td>6</td>\n",
       "    </tr>\n",
       "  </tbody>\n",
       "</table>\n",
       "<p>5 rows × 65 columns</p>\n",
       "</div>"
      ],
      "text/plain": [
       "   0   1   2   3   4   5   6   7   8   9   ...  55  56  57  58  59  60  61  \\\n",
       "0   0   1   6  15  12   1   0   0   0   7  ...   0   0   0   6  14   7   1   \n",
       "1   0   0  10  16   6   0   0   0   0   7  ...   0   0   0  10  16  15   3   \n",
       "2   0   0   8  15  16  13   0   0   0   1  ...   0   0   0   9  14   0   0   \n",
       "3   0   0   0   3  11  16   0   0   0   0  ...   0   0   0   0   1  15   2   \n",
       "4   0   0   5  14   4   0   0   0   0   0  ...   0   0   0   4  12  14   7   \n",
       "\n",
       "   62  63  64  \n",
       "0   0   0   0  \n",
       "1   0   0   0  \n",
       "2   0   0   7  \n",
       "3   0   0   4  \n",
       "4   0   0   6  \n",
       "\n",
       "[5 rows x 65 columns]"
      ]
     },
     "execution_count": 3,
     "metadata": {},
     "output_type": "execute_result"
    }
   ],
   "source": [
    "training=pd.read_csv(\"optdigits.tra\",header=None)\n",
    "training.head()"
   ]
  },
  {
   "cell_type": "code",
   "execution_count": 4,
   "metadata": {},
   "outputs": [
    {
     "data": {
      "text/html": [
       "<div>\n",
       "<style scoped>\n",
       "    .dataframe tbody tr th:only-of-type {\n",
       "        vertical-align: middle;\n",
       "    }\n",
       "\n",
       "    .dataframe tbody tr th {\n",
       "        vertical-align: top;\n",
       "    }\n",
       "\n",
       "    .dataframe thead th {\n",
       "        text-align: right;\n",
       "    }\n",
       "</style>\n",
       "<table border=\"1\" class=\"dataframe\">\n",
       "  <thead>\n",
       "    <tr style=\"text-align: right;\">\n",
       "      <th></th>\n",
       "      <th>0</th>\n",
       "      <th>1</th>\n",
       "      <th>2</th>\n",
       "      <th>3</th>\n",
       "      <th>4</th>\n",
       "      <th>5</th>\n",
       "      <th>6</th>\n",
       "      <th>7</th>\n",
       "      <th>8</th>\n",
       "      <th>9</th>\n",
       "      <th>...</th>\n",
       "      <th>55</th>\n",
       "      <th>56</th>\n",
       "      <th>57</th>\n",
       "      <th>58</th>\n",
       "      <th>59</th>\n",
       "      <th>60</th>\n",
       "      <th>61</th>\n",
       "      <th>62</th>\n",
       "      <th>63</th>\n",
       "      <th>64</th>\n",
       "    </tr>\n",
       "  </thead>\n",
       "  <tbody>\n",
       "    <tr>\n",
       "      <td>count</td>\n",
       "      <td>3823.0</td>\n",
       "      <td>3823.000000</td>\n",
       "      <td>3823.000000</td>\n",
       "      <td>3823.000000</td>\n",
       "      <td>3823.000000</td>\n",
       "      <td>3823.000000</td>\n",
       "      <td>3823.000000</td>\n",
       "      <td>3823.000000</td>\n",
       "      <td>3823.000000</td>\n",
       "      <td>3823.000000</td>\n",
       "      <td>...</td>\n",
       "      <td>3823.000000</td>\n",
       "      <td>3823.000000</td>\n",
       "      <td>3823.000000</td>\n",
       "      <td>3823.000000</td>\n",
       "      <td>3823.000000</td>\n",
       "      <td>3823.000000</td>\n",
       "      <td>3823.000000</td>\n",
       "      <td>3823.000000</td>\n",
       "      <td>3823.000000</td>\n",
       "      <td>3823.000000</td>\n",
       "    </tr>\n",
       "    <tr>\n",
       "      <td>mean</td>\n",
       "      <td>0.0</td>\n",
       "      <td>0.301334</td>\n",
       "      <td>5.481821</td>\n",
       "      <td>11.805912</td>\n",
       "      <td>11.451478</td>\n",
       "      <td>5.505362</td>\n",
       "      <td>1.387392</td>\n",
       "      <td>0.142297</td>\n",
       "      <td>0.002093</td>\n",
       "      <td>1.960502</td>\n",
       "      <td>...</td>\n",
       "      <td>0.148313</td>\n",
       "      <td>0.000262</td>\n",
       "      <td>0.283024</td>\n",
       "      <td>5.855872</td>\n",
       "      <td>11.942977</td>\n",
       "      <td>11.461156</td>\n",
       "      <td>6.700497</td>\n",
       "      <td>2.105676</td>\n",
       "      <td>0.202197</td>\n",
       "      <td>4.497253</td>\n",
       "    </tr>\n",
       "    <tr>\n",
       "      <td>std</td>\n",
       "      <td>0.0</td>\n",
       "      <td>0.866986</td>\n",
       "      <td>4.631601</td>\n",
       "      <td>4.259811</td>\n",
       "      <td>4.537556</td>\n",
       "      <td>5.613060</td>\n",
       "      <td>3.371444</td>\n",
       "      <td>1.051598</td>\n",
       "      <td>0.088572</td>\n",
       "      <td>3.052353</td>\n",
       "      <td>...</td>\n",
       "      <td>0.767761</td>\n",
       "      <td>0.016173</td>\n",
       "      <td>0.928046</td>\n",
       "      <td>4.980012</td>\n",
       "      <td>4.334508</td>\n",
       "      <td>4.991934</td>\n",
       "      <td>5.775815</td>\n",
       "      <td>4.028266</td>\n",
       "      <td>1.150694</td>\n",
       "      <td>2.869831</td>\n",
       "    </tr>\n",
       "    <tr>\n",
       "      <td>min</td>\n",
       "      <td>0.0</td>\n",
       "      <td>0.000000</td>\n",
       "      <td>0.000000</td>\n",
       "      <td>0.000000</td>\n",
       "      <td>0.000000</td>\n",
       "      <td>0.000000</td>\n",
       "      <td>0.000000</td>\n",
       "      <td>0.000000</td>\n",
       "      <td>0.000000</td>\n",
       "      <td>0.000000</td>\n",
       "      <td>...</td>\n",
       "      <td>0.000000</td>\n",
       "      <td>0.000000</td>\n",
       "      <td>0.000000</td>\n",
       "      <td>0.000000</td>\n",
       "      <td>0.000000</td>\n",
       "      <td>0.000000</td>\n",
       "      <td>0.000000</td>\n",
       "      <td>0.000000</td>\n",
       "      <td>0.000000</td>\n",
       "      <td>0.000000</td>\n",
       "    </tr>\n",
       "    <tr>\n",
       "      <td>25%</td>\n",
       "      <td>0.0</td>\n",
       "      <td>0.000000</td>\n",
       "      <td>1.000000</td>\n",
       "      <td>10.000000</td>\n",
       "      <td>9.000000</td>\n",
       "      <td>0.000000</td>\n",
       "      <td>0.000000</td>\n",
       "      <td>0.000000</td>\n",
       "      <td>0.000000</td>\n",
       "      <td>0.000000</td>\n",
       "      <td>...</td>\n",
       "      <td>0.000000</td>\n",
       "      <td>0.000000</td>\n",
       "      <td>0.000000</td>\n",
       "      <td>1.000000</td>\n",
       "      <td>10.000000</td>\n",
       "      <td>9.000000</td>\n",
       "      <td>0.000000</td>\n",
       "      <td>0.000000</td>\n",
       "      <td>0.000000</td>\n",
       "      <td>2.000000</td>\n",
       "    </tr>\n",
       "    <tr>\n",
       "      <td>50%</td>\n",
       "      <td>0.0</td>\n",
       "      <td>0.000000</td>\n",
       "      <td>5.000000</td>\n",
       "      <td>13.000000</td>\n",
       "      <td>13.000000</td>\n",
       "      <td>4.000000</td>\n",
       "      <td>0.000000</td>\n",
       "      <td>0.000000</td>\n",
       "      <td>0.000000</td>\n",
       "      <td>0.000000</td>\n",
       "      <td>...</td>\n",
       "      <td>0.000000</td>\n",
       "      <td>0.000000</td>\n",
       "      <td>0.000000</td>\n",
       "      <td>5.000000</td>\n",
       "      <td>13.000000</td>\n",
       "      <td>13.000000</td>\n",
       "      <td>6.000000</td>\n",
       "      <td>0.000000</td>\n",
       "      <td>0.000000</td>\n",
       "      <td>4.000000</td>\n",
       "    </tr>\n",
       "    <tr>\n",
       "      <td>75%</td>\n",
       "      <td>0.0</td>\n",
       "      <td>0.000000</td>\n",
       "      <td>9.000000</td>\n",
       "      <td>15.000000</td>\n",
       "      <td>15.000000</td>\n",
       "      <td>10.000000</td>\n",
       "      <td>0.000000</td>\n",
       "      <td>0.000000</td>\n",
       "      <td>0.000000</td>\n",
       "      <td>3.000000</td>\n",
       "      <td>...</td>\n",
       "      <td>0.000000</td>\n",
       "      <td>0.000000</td>\n",
       "      <td>0.000000</td>\n",
       "      <td>10.000000</td>\n",
       "      <td>15.000000</td>\n",
       "      <td>16.000000</td>\n",
       "      <td>12.000000</td>\n",
       "      <td>2.000000</td>\n",
       "      <td>0.000000</td>\n",
       "      <td>7.000000</td>\n",
       "    </tr>\n",
       "    <tr>\n",
       "      <td>max</td>\n",
       "      <td>0.0</td>\n",
       "      <td>8.000000</td>\n",
       "      <td>16.000000</td>\n",
       "      <td>16.000000</td>\n",
       "      <td>16.000000</td>\n",
       "      <td>16.000000</td>\n",
       "      <td>16.000000</td>\n",
       "      <td>16.000000</td>\n",
       "      <td>5.000000</td>\n",
       "      <td>15.000000</td>\n",
       "      <td>...</td>\n",
       "      <td>12.000000</td>\n",
       "      <td>1.000000</td>\n",
       "      <td>10.000000</td>\n",
       "      <td>16.000000</td>\n",
       "      <td>16.000000</td>\n",
       "      <td>16.000000</td>\n",
       "      <td>16.000000</td>\n",
       "      <td>16.000000</td>\n",
       "      <td>16.000000</td>\n",
       "      <td>9.000000</td>\n",
       "    </tr>\n",
       "  </tbody>\n",
       "</table>\n",
       "<p>8 rows × 65 columns</p>\n",
       "</div>"
      ],
      "text/plain": [
       "           0            1            2            3            4   \\\n",
       "count  3823.0  3823.000000  3823.000000  3823.000000  3823.000000   \n",
       "mean      0.0     0.301334     5.481821    11.805912    11.451478   \n",
       "std       0.0     0.866986     4.631601     4.259811     4.537556   \n",
       "min       0.0     0.000000     0.000000     0.000000     0.000000   \n",
       "25%       0.0     0.000000     1.000000    10.000000     9.000000   \n",
       "50%       0.0     0.000000     5.000000    13.000000    13.000000   \n",
       "75%       0.0     0.000000     9.000000    15.000000    15.000000   \n",
       "max       0.0     8.000000    16.000000    16.000000    16.000000   \n",
       "\n",
       "                5            6            7            8            9   ...  \\\n",
       "count  3823.000000  3823.000000  3823.000000  3823.000000  3823.000000  ...   \n",
       "mean      5.505362     1.387392     0.142297     0.002093     1.960502  ...   \n",
       "std       5.613060     3.371444     1.051598     0.088572     3.052353  ...   \n",
       "min       0.000000     0.000000     0.000000     0.000000     0.000000  ...   \n",
       "25%       0.000000     0.000000     0.000000     0.000000     0.000000  ...   \n",
       "50%       4.000000     0.000000     0.000000     0.000000     0.000000  ...   \n",
       "75%      10.000000     0.000000     0.000000     0.000000     3.000000  ...   \n",
       "max      16.000000    16.000000    16.000000     5.000000    15.000000  ...   \n",
       "\n",
       "                55           56           57           58           59  \\\n",
       "count  3823.000000  3823.000000  3823.000000  3823.000000  3823.000000   \n",
       "mean      0.148313     0.000262     0.283024     5.855872    11.942977   \n",
       "std       0.767761     0.016173     0.928046     4.980012     4.334508   \n",
       "min       0.000000     0.000000     0.000000     0.000000     0.000000   \n",
       "25%       0.000000     0.000000     0.000000     1.000000    10.000000   \n",
       "50%       0.000000     0.000000     0.000000     5.000000    13.000000   \n",
       "75%       0.000000     0.000000     0.000000    10.000000    15.000000   \n",
       "max      12.000000     1.000000    10.000000    16.000000    16.000000   \n",
       "\n",
       "                60           61           62           63           64  \n",
       "count  3823.000000  3823.000000  3823.000000  3823.000000  3823.000000  \n",
       "mean     11.461156     6.700497     2.105676     0.202197     4.497253  \n",
       "std       4.991934     5.775815     4.028266     1.150694     2.869831  \n",
       "min       0.000000     0.000000     0.000000     0.000000     0.000000  \n",
       "25%       9.000000     0.000000     0.000000     0.000000     2.000000  \n",
       "50%      13.000000     6.000000     0.000000     0.000000     4.000000  \n",
       "75%      16.000000    12.000000     2.000000     0.000000     7.000000  \n",
       "max      16.000000    16.000000    16.000000    16.000000     9.000000  \n",
       "\n",
       "[8 rows x 65 columns]"
      ]
     },
     "execution_count": 4,
     "metadata": {},
     "output_type": "execute_result"
    }
   ],
   "source": [
    "training.describe()"
   ]
  },
  {
   "cell_type": "markdown",
   "metadata": {},
   "source": [
    "Nous pouvons voir qu'il y a un total de 65 colonnes, dont les 64 premières colonnes sont les nombres de pixels comptés dans chaque bloc, c'est-à-dire les features. Et la dernière colonne est l'étiquette, qui est le nombre qu'elle représente véritablement.\n",
    "\n",
    "Nous choisissons les six premières lignes et les dessinons en niveaux de gris :"
   ]
  },
  {
   "cell_type": "code",
   "execution_count": 5,
   "metadata": {},
   "outputs": [],
   "source": [
    "X=training.drop(64,axis=1)\n",
    "y=training.iloc[:,-1]"
   ]
  },
  {
   "cell_type": "code",
   "execution_count": 6,
   "metadata": {},
   "outputs": [
    {
     "data": {
      "image/png": "[encoded data removed]",
      "text/plain": [
       "<Figure size 504x360 with 6 Axes>"
      ]
     },
     "metadata": {
      "needs_background": "light"
     },
     "output_type": "display_data"
    }
   ],
   "source": [
    "for i in range(6):\n",
    "    plt.subplot(2,3,i+1)\n",
    "    d=X.iloc[i].to_numpy()\n",
    "    d.shape=(8,8)\n",
    "    plt.imshow(255-d,cmap='gray')"
   ]
  },
  {
   "cell_type": "markdown",
   "metadata": {},
   "source": [
    "# K-Means"
   ]
  },
  {
   "cell_type": "markdown",
   "metadata": {},
   "source": [
    "## Apprentissage"
   ]
  },
  {
   "cell_type": "markdown",
   "metadata": {},
   "source": [
    "Nons allons faire un k-moyennes avec K=10 sur la base d’apprentissage en visualisant l’erreur de quantification au fil des itérations. Ici, nous faisons varier le nombre d'itérations de 1 à 30 :"
   ]
  },
  {
   "cell_type": "code",
   "execution_count": 7,
   "metadata": {},
   "outputs": [
    {
     "data": {
      "image/png": "[encoded data removed]",
      "text/plain": [
       "<Figure size 504x360 with 1 Axes>"
      ]
     },
     "metadata": {
      "needs_background": "light"
     },
     "output_type": "display_data"
    }
   ],
   "source": [
    "import warnings\n",
    "warnings.filterwarnings('ignore')\n",
    "\n",
    "df=whiten(X)\n",
    "precedents_centoirds, closest_centroids = kmeans2(df,k=10,iter=1,minit='points')\n",
    "err=[]\n",
    "\n",
    "for iter in range(30):\n",
    "    distance=np.sum(np.square(df-precedents_centoirds[closest_centroids]))\n",
    "    err.append(distance)\n",
    "    precedents_centoirds, closest_centroids = kmeans2(df,k=precedents_centoirds,iter=1,minit='points')\n",
    "\n",
    "plt.plot(range(30),err)\n",
    "plt.xlabel('nombre d\\'iteration')\n",
    "plt.ylabel('l’erreur de quantification')\n",
    "plt.show()"
   ]
  },
  {
   "cell_type": "markdown",
   "metadata": {},
   "source": [
    "Après avoir obtenu les résultats de 10 clusters, nous voulons aussi voir les fréquences de chaque classe."
   ]
  },
  {
   "cell_type": "code",
   "execution_count": 8,
   "metadata": {},
   "outputs": [
    {
     "data": {
      "image/png": "[encoded data removed]",
      "text/plain": [
       "<Figure size 504x360 with 1 Axes>"
      ]
     },
     "metadata": {
      "needs_background": "light"
     },
     "output_type": "display_data"
    }
   ],
   "source": [
    "KM_train=KMeans(n_clusters=10,random_state=123)\n",
    "KM_train.fit(X)\n",
    "\n",
    "plt.hist(KM_train.labels_,histtype='bar',rwidth=0.8)\n",
    "plt.xlabel('cluster')\n",
    "plt.ylabel('Nb')\n",
    "plt.title('histogramme du nombre de chiffres de chaque classe')\n",
    "plt.show()"
   ]
  },
  {
   "cell_type": "markdown",
   "metadata": {},
   "source": [
    "D'après l'histogramme ci-dessus, nous pouvons voir que les confusions les plus fréquentes sont celles du 5 suivie de celle du 1. Mais le numéro des classes n'est pas exactement le chiffre qu'elles représentent. Donc, d'après l'ordre donné par k-means, nous choisissons aléatoirement 10 données dans chaque classe et les dessinons. Ça nous permet de voir plus clairement ce qui se passe avec chaque classe."
   ]
  },
  {
   "cell_type": "code",
   "execution_count": 9,
   "metadata": {},
   "outputs": [
    {
     "data": {
      "image/png": "[encoded data removed]",
      "text/plain": [
       "<Figure size 864x720 with 100 Axes>"
      ]
     },
     "metadata": {
      "needs_background": "light"
     },
     "output_type": "display_data"
    }
   ],
   "source": [
    "plt.rcParams['figure.figsize'] = (12, 10)\n",
    "for c in range(KM_train.n_clusters):\n",
    "    x=X[KM_train.labels_==c].sample(10,replace=False)\n",
    "    for i in range(10):\n",
    "        plt.subplot(10,10,c*10+i+1)\n",
    "        d=x.iloc[i].to_numpy()\n",
    "        d.shape=(8,8)\n",
    "        plt.imshow(255-d,cmap='gray')\n",
    "        plt.axis('off')"
   ]
  },
  {
   "cell_type": "markdown",
   "metadata": {},
   "source": [
    "Comme ça, nous pouvons voir que la classe 5, qui est la plus fréquente, a un résultat de clustering moins qu'idéal parce qu'elle comprend en fait 4 valeurs différentes qui sont (3, 5, 8, 9) dans les 10 échantillons que nous avons choisis. Après pour la deuxième calsse la plus fréquente qui est la classe 1, bien que d'autres chiffres se mélangent parfois, leur proportion globale n'est pas grande.\n",
    "\n",
    "Ensuite, nous allons faire un graphe d'indices de la silhoutte avec le nombre de clustering = 10:"
   ]
  },
  {
   "cell_type": "code",
   "execution_count": 10,
   "metadata": {},
   "outputs": [
    {
     "name": "stdout",
     "output_type": "stream",
     "text": [
      "Silhouette score when cluster number set to 10: 0.191\n"
     ]
    },
    {
     "data": {
      "image/png": "[encoded data removed]",
      "text/plain": [
       "<Figure size 720x504 with 1 Axes>"
      ]
     },
     "metadata": {
      "needs_background": "light"
     },
     "output_type": "display_data"
    }
   ],
   "source": [
    "# Silhouette metric to evaluate model performance\n",
    "# Set cluster=10\n",
    "plt.figure(figsize=(10, 7))\n",
    "y_km=KM_train.fit_predict(X)\n",
    "\n",
    "cluster_labels=np.unique(y_km)\n",
    "n_clusters=cluster_labels.shape[0]\n",
    "silhouette_score_cluster_10=silhouette_score(X,KM_train.labels_)\n",
    "print(\"Silhouette score when cluster number set to 10: %.3f\" % silhouette_score_cluster_10)\n",
    "silhouette_vals=silhouette_samples(X,y_km,metric='euclidean')\n",
    "y_ax_lower,y_ax_upper=0,0\n",
    "yticks=[]\n",
    "for i,c in enumerate(cluster_labels):\n",
    "    c_silhouette_vals=silhouette_vals[y_km==c]\n",
    "    c_silhouette_vals.sort()\n",
    "    y_ax_upper+=len(c_silhouette_vals)\n",
    "    color=cm.jet(float(i)/n_clusters)\n",
    "    plt.barh(range(y_ax_lower,y_ax_upper),\n",
    "             c_silhouette_vals,\n",
    "             height=1.0,\n",
    "             edgecolor='none',\n",
    "             color=color)\n",
    "    yticks.append((y_ax_lower+y_ax_upper)/2.0)\n",
    "    y_ax_lower+=len(c_silhouette_vals)\n",
    "\n",
    "silhouette_avg=np.mean(silhouette_vals)\n",
    "plt.axvline(silhouette_avg,\n",
    "            color='red',\n",
    "            linestyle='--')\n",
    "plt.yticks(yticks,cluster_labels)\n",
    "plt.ylabel(\"Cluster\")\n",
    "plt.xlabel(\"Silhouette Coefficients\")\n",
    "plt.show()"
   ]
  },
  {
   "cell_type": "markdown",
   "metadata": {},
   "source": [
    "Nous pouvons voir que la classe 3 qui représente le chiffre \"0\" a une indice de la silhouette la plus élevée, après c'est la classe 9 qui représente \"6\". Par contre, la classe 5, 2 et 7 ont des scores moins bon que les autres. Nous n'avons pas obtenu de résultats idéaux pour ces classes, car la différence entre ces nombres ne peut pas être très bien mesurée avec la distance euclidienne.\n",
    "\n",
    "Après, nous calculons les moyennes des indices de la silhouette en modifiant le nombre de clustering de 10 à 15:"
   ]
  },
  {
   "cell_type": "code",
   "execution_count": 11,
   "metadata": {},
   "outputs": [
    {
     "name": "stdout",
     "output_type": "stream",
     "text": [
      "For n_clusters = 10 The average silhouette_score is : 0.19148668442574007\n",
      "For n_clusters = 11 The average silhouette_score is : 0.18814571462821522\n",
      "For n_clusters = 12 The average silhouette_score is : 0.18911413156683488\n",
      "For n_clusters = 13 The average silhouette_score is : 0.19042192976980854\n",
      "For n_clusters = 14 The average silhouette_score is : 0.18799230451057342\n",
      "For n_clusters = 15 The average silhouette_score is : 0.1842921019677564\n"
     ]
    }
   ],
   "source": [
    "range_n_clusters = list(range(10,16))\n",
    "elbow = []\n",
    "ss = []\n",
    "for n_clusters in range_n_clusters:\n",
    "   #iterating through cluster sizes\n",
    "   clusterer = KMeans(n_clusters = n_clusters, random_state=123)\n",
    "   cluster_labels = clusterer.fit_predict(X)\n",
    "   #Finding the average silhouette score\n",
    "   silhouette_avg = silhouette_score(X, cluster_labels)\n",
    "   ss.append(silhouette_avg)\n",
    "   print(\"For n_clusters =\", n_clusters,\"The average silhouette_score is :\", silhouette_avg)\n",
    "   #Finding the average SSE\"\n",
    "   elbow.append(clusterer.inertia_) # Inertia: Sum of distances of samples to their closest cluster center"
   ]
  },
  {
   "cell_type": "code",
   "execution_count": 12,
   "metadata": {},
   "outputs": [
    {
     "data": {
      "image/png": "[encoded data removed]",
      "text/plain": [
       "<Figure size 1008x504 with 2 Axes>"
      ]
     },
     "metadata": {
      "needs_background": "light"
     },
     "output_type": "display_data"
    }
   ],
   "source": [
    "fig = plt.figure(figsize=(14,7))\n",
    "fig.add_subplot(121)\n",
    "plt.plot(range_n_clusters, elbow,'b-',label='Sum of squared error')\n",
    "plt.xlabel(\"Number of cluster\")\n",
    "plt.ylabel(\"SSE\")\n",
    "plt.legend()\n",
    "fig.add_subplot(122)\n",
    "plt.plot(range_n_clusters, ss,'b-',label='Silhouette Score')\n",
    "plt.xlabel(\"Number of cluster\")\n",
    "plt.ylabel(\"Silhouette Score\")\n",
    "plt.legend()\n",
    "plt.show()"
   ]
  },
  {
   "cell_type": "markdown",
   "metadata": {},
   "source": [
    "Nous avons le meilleur indice de la silhouette lorsque k = 10, alors nous pouvons dire que c'est un bon clustering."
   ]
  },
  {
   "cell_type": "markdown",
   "metadata": {},
   "source": [
    "## Test"
   ]
  },
  {
   "cell_type": "markdown",
   "metadata": {},
   "source": [
    "Après avoir formé le modèle sur l'ensemble d'apprentissage, nous utiliserons l'ensemble de test pour évaluer la performance du modèle.\n",
    "\n",
    "Par cluster: il faut faire un vote à la majorité pour attribuer un label à chaque cluster (la classe la plus représentée dans chaque cluster)."
   ]
  },
  {
   "cell_type": "code",
   "execution_count": 13,
   "metadata": {},
   "outputs": [
    {
     "name": "stdout",
     "output_type": "stream",
     "text": [
      "[1, 7, 1, 0, 2, 3, 5, 8, 4, 6]\n"
     ]
    }
   ],
   "source": [
    "labels=[]\n",
    "for i in range(KM_train.n_clusters):\n",
    "    label=y[KM_train.labels_==i].value_counts().index[0]\n",
    "    labels.append(label)\n",
    "\n",
    "print(labels)"
   ]
  },
  {
   "cell_type": "markdown",
   "metadata": {},
   "source": [
    "Mais, malheuresement, nous avons remarqué qu'il y avait deux classes avec la même étiquette : la classe 0 et la classe 2. Et pour mieux décider qui prend laquelle, nous faisons une table pour calculer les frèquences des chiffres dans ces deux classes : "
   ]
  },
  {
   "cell_type": "code",
   "execution_count": 14,
   "metadata": {},
   "outputs": [
    {
     "name": "stdout",
     "output_type": "stream",
     "text": [
      "Classe 0:\n",
      "1    247\n",
      "8     31\n",
      "7      7\n",
      "4      6\n",
      "6      3\n",
      "9      2\n",
      "3      2\n",
      "Name: 64, dtype: int64\n",
      "Classe 2:\n",
      "1    115\n",
      "9     97\n",
      "4     30\n",
      "8      6\n",
      "7      6\n",
      "5      6\n",
      "3      5\n",
      "0      1\n",
      "Name: 64, dtype: int64\n"
     ]
    }
   ],
   "source": [
    "print(\"Classe 0:\")\n",
    "print(y[KM_train.labels_==0].value_counts())\n",
    "\n",
    "print(\"Classe 2:\")\n",
    "print(y[KM_train.labels_==2].value_counts())"
   ]
  },
  {
   "cell_type": "markdown",
   "metadata": {},
   "source": [
    "Ainsi, bien que nous ayons trouvé que la fréquence de \"1\" dans la classe 2 est très élevée, il y a beaucoup plus de 1 dans la classe 0. Et le nombre d'occurrences de \"9\" dans la classe 2 est légèrement inférieur par rapport au nombre de \"1\" mais reste très élevé et les autres classes ne peuvent pas représenter \"9\", donc nous déterminons que la classe 0 représente \"1\" et que la classe 2 représente \"9\"."
   ]
  },
  {
   "cell_type": "code",
   "execution_count": 15,
   "metadata": {},
   "outputs": [
    {
     "data": {
      "text/plain": [
       "[1, 7, 9, 0, 2, 3, 5, 8, 4, 6]"
      ]
     },
     "execution_count": 15,
     "metadata": {},
     "output_type": "execute_result"
    }
   ],
   "source": [
    "labels[2]=9\n",
    "labels"
   ]
  },
  {
   "cell_type": "markdown",
   "metadata": {},
   "source": [
    "Dessinons les données dans l'ordre des nouveaux labels que nous avons : "
   ]
  },
  {
   "cell_type": "code",
   "execution_count": 16,
   "metadata": {},
   "outputs": [
    {
     "data": {
      "image/png": "[encoded data removed]",
      "text/plain": [
       "<Figure size 864x720 with 100 Axes>"
      ]
     },
     "metadata": {
      "needs_background": "light"
     },
     "output_type": "display_data"
    }
   ],
   "source": [
    "KM_train.labels_=np.choose(KM_train.labels_,labels).astype(np.int64)\n",
    "\n",
    "plt.rcParams['figure.figsize'] = (12, 10)\n",
    "for c in range(KM_train.n_clusters):\n",
    "    x=X[KM_train.labels_==c].sample(10,replace=False)\n",
    "    for i in range(10):\n",
    "        plt.subplot(10,10,c*10+i+1)\n",
    "        d=x.iloc[i].to_numpy()\n",
    "        d.shape=(8,8)\n",
    "        plt.imshow(255-d,cmap='gray')\n",
    "        plt.axis('off')"
   ]
  },
  {
   "cell_type": "code",
   "execution_count": 17,
   "metadata": {},
   "outputs": [],
   "source": [
    "testing=pd.read_csv(\"optdigits.tes\",header=None)\n",
    "\n",
    "X_test=testing.drop(64,axis=1)\n",
    "y_test=testing.iloc[:,-1]"
   ]
  },
  {
   "cell_type": "markdown",
   "metadata": {},
   "source": [
    "Pour chaque élément de la Base de Test nous allons :\n",
    "\n",
    "1. chercher le Cluster (Centre) le plus proche\n",
    "2. attribuer à cet élément de la BT le label associé au Cluster le plus proche"
   ]
  },
  {
   "cell_type": "code",
   "execution_count": 18,
   "metadata": {},
   "outputs": [],
   "source": [
    "num_test=X_test.shape[0]\n",
    "pre_test=np.zeros(num_test,dtype=y_test.dtype)\n",
    "\n",
    "for i in range(num_test):\n",
    "    distances=np.linalg.norm(X_test.iloc[i].to_numpy()-KM_train.cluster_centers_,axis=1)\n",
    "    closest_cluster=np.argmin(distances)\n",
    "    pre_test[i]=labels[closest_cluster]"
   ]
  },
  {
   "cell_type": "markdown",
   "metadata": {},
   "source": [
    "Après, nous obtenons la matrice de confusions et la performance globale ci-dessous :"
   ]
  },
  {
   "cell_type": "code",
   "execution_count": 19,
   "metadata": {},
   "outputs": [
    {
     "name": "stdout",
     "output_type": "stream",
     "text": [
      "Confusion matrix\n",
      "[[176   0   0   0   2   0   0   0   0   0]\n",
      " [  0 104  21   1   0   1   3   0   0  52]\n",
      " [  1   3 148   9   0   0   0   4  10   2]\n",
      " [  0   1   0 162   0   2   0  10   8   0]\n",
      " [  0   7   0   0 158   0   0   7   4   5]\n",
      " [  0   0   0  31   1 148   1   0   0   1]\n",
      " [  1   4   0   0   0   0 175   0   1   0]\n",
      " [  0   0   0   0   1   1   0 165   4   8]\n",
      " [  0  21   1  10   0   2   1   1 131   7]\n",
      " [  0   0   0 145   0   4   0   4   3  24]]\n",
      "Classification report\n",
      "              precision    recall  f1-score   support\n",
      "\n",
      "           0       0.99      0.99      0.99       178\n",
      "           1       0.74      0.57      0.65       182\n",
      "           2       0.87      0.84      0.85       177\n",
      "           3       0.45      0.89      0.60       183\n",
      "           4       0.98      0.87      0.92       181\n",
      "           5       0.94      0.81      0.87       182\n",
      "           6       0.97      0.97      0.97       181\n",
      "           7       0.86      0.92      0.89       179\n",
      "           8       0.81      0.75      0.78       174\n",
      "           9       0.24      0.13      0.17       180\n",
      "\n",
      "    accuracy                           0.77      1797\n",
      "   macro avg       0.79      0.77      0.77      1797\n",
      "weighted avg       0.79      0.77      0.77      1797\n",
      "\n"
     ]
    }
   ],
   "source": [
    "cm = confusion_matrix(y_test,pre_test,labels=range(10))\n",
    "\n",
    "print(\"Confusion matrix\")\n",
    "print(cm)\n",
    "print(\"Classification report\")\n",
    "print(classification_report(y_test,pre_test))"
   ]
  },
  {
   "cell_type": "markdown",
   "metadata": {},
   "source": [
    "D'après les résultats ci-dessus, nous pouvons voir que le taux de précision le plus élevé est celui de \"0\", le taux de précision et le taux de rappel atteignent 99%, suivis de \"6\" et de \"4\" qui ont également des taux de précision plus élevés. Cependant, comme les résultats de nos observations d'histogramme précédentes, le nombre 9 est facilement mal classé et sa précision n'est même pas de 50%.\n",
    "\n",
    "Mais dans l'ensemble, la précision de notre modèle a atteint 77%, nous pouvons donc penser que notre modèle a une certaine efficacité."
   ]
  },
  {
   "cell_type": "markdown",
   "metadata": {},
   "source": [
    "# Clustering Hiérarchique"
   ]
  },
  {
   "cell_type": "markdown",
   "metadata": {},
   "source": [
    "Dans les parties suivantes, nous allons implémenter la méthode Clustering Hiérarchique sur nos données.\n",
    "\n",
    "Tout d'abord, nous voulons voir les performances des modèles avec un linkages différent :"
   ]
  },
  {
   "cell_type": "code",
   "execution_count": 20,
   "metadata": {},
   "outputs": [
    {
     "name": "stdout",
     "output_type": "stream",
     "text": [
      "The accuracy score with linkage = single is:  0.09835207951870259\n",
      "The accuracy score with linkage = complete is:  0.06905571540674862\n",
      "The accuracy score with linkage = average is:  0.01595605545383207\n",
      "The accuracy score with linkage = ward is:  0.1998430551922574\n"
     ]
    }
   ],
   "source": [
    "for aff in ['single','complete','average','ward']:\n",
    "    Hclustering=AgglomerativeClustering(n_clusters=10,affinity='euclidean',linkage=aff)\n",
    "    Hclustering.fit(X)\n",
    "    \n",
    "    print(\"The accuracy score with linkage =\",aff,\"is: \",sm.accuracy_score(y,Hclustering.labels_))"
   ]
  },
  {
   "cell_type": "markdown",
   "metadata": {},
   "source": [
    "Selon les résultats, nous pouvons noter que la précision avec le critère de Ward est beaucoup plus élevée que celle des autres critères."
   ]
  },
  {
   "cell_type": "markdown",
   "metadata": {},
   "source": [
    "## Apprentissage"
   ]
  },
  {
   "cell_type": "markdown",
   "metadata": {},
   "source": [
    "Le dendrogramme du modèle avec le critère de Ward:"
   ]
  },
  {
   "cell_type": "code",
   "execution_count": 21,
   "metadata": {},
   "outputs": [
    {
     "data": {
      "image/png": "[encoded data removed]",
      "text/plain": [
       "<Figure size 720x504 with 1 Axes>"
      ]
     },
     "metadata": {
      "needs_background": "light"
     },
     "output_type": "display_data"
    }
   ],
   "source": [
    "plt.figure(figsize=(10, 7))\n",
    "plt.title(\"Dendograms\")\n",
    "dend = shc.dendrogram(shc.linkage(X, method='ward'))\n",
    "plt.axhline(y=410)\n",
    "plt.show()"
   ]
  },
  {
   "cell_type": "code",
   "execution_count": 22,
   "metadata": {},
   "outputs": [
    {
     "data": {
      "image/png": "[encoded data removed]",
      "text/plain": [
       "<Figure size 504x360 with 1 Axes>"
      ]
     },
     "metadata": {
      "needs_background": "light"
     },
     "output_type": "display_data"
    }
   ],
   "source": [
    "plt.figure(figsize=(7, 5))\n",
    "plt.hist(Hclustering.labels_,histtype='bar',rwidth=0.8)\n",
    "plt.xlabel('cluster')\n",
    "plt.ylabel('Nb')\n",
    "plt.title('histogramme du nombre de chiffres de chaque classe')\n",
    "plt.show()"
   ]
  },
  {
   "cell_type": "code",
   "execution_count": 23,
   "metadata": {},
   "outputs": [
    {
     "data": {
      "image/png": "[encoded data removed]",
      "text/plain": [
       "<Figure size 864x720 with 100 Axes>"
      ]
     },
     "metadata": {
      "needs_background": "light"
     },
     "output_type": "display_data"
    }
   ],
   "source": [
    "for c in range(Hclustering.n_clusters):\n",
    "    x=X[Hclustering.labels_==c].sample(10,replace=False)\n",
    "    for i in range(10):\n",
    "        plt.subplot(10,10,c*10+i+1)\n",
    "        d=x.iloc[i].to_numpy()\n",
    "        d.shape=(8,8)\n",
    "        plt.imshow(255-d,cmap='gray')\n",
    "        plt.axis('off')"
   ]
  },
  {
   "cell_type": "markdown",
   "metadata": {},
   "source": [
    "Semblable au résultat de K-Means, il existe également une classe contenant 3, 5, 9 à haute fréquence."
   ]
  },
  {
   "cell_type": "code",
   "execution_count": 24,
   "metadata": {},
   "outputs": [
    {
     "name": "stdout",
     "output_type": "stream",
     "text": [
      "For n_clusters = 10 The average silhouette_score is : 0.1745470931891432\n",
      "For n_clusters = 11 The average silhouette_score is : 0.17871212582446985\n",
      "For n_clusters = 12 The average silhouette_score is : 0.17304962576959765\n",
      "For n_clusters = 13 The average silhouette_score is : 0.17437624446800093\n",
      "For n_clusters = 14 The average silhouette_score is : 0.17388412758382546\n",
      "For n_clusters = 15 The average silhouette_score is : 0.16901128866557988\n"
     ]
    }
   ],
   "source": [
    "range_n_clusters = list(range(10,16))\n",
    "elbow = []\n",
    "ss = []\n",
    "for n_clusters in range_n_clusters:\n",
    "   #iterating through cluster sizes\n",
    "   clusterer = AgglomerativeClustering(n_clusters = n_clusters, affinity='euclidean',linkage='ward')\n",
    "   cluster_labels = clusterer.fit_predict(X)\n",
    "   #Finding the average silhouette score\n",
    "   silhouette_avg = silhouette_score(X, cluster_labels)\n",
    "   ss.append(silhouette_avg)\n",
    "   print(\"For n_clusters =\", n_clusters,\"The average silhouette_score is :\", silhouette_avg)"
   ]
  },
  {
   "cell_type": "markdown",
   "metadata": {},
   "source": [
    "L'indice de la Silhouette pour la méthode de Clustering Hiérarchique est moins bon que celui de la méthode de K-Means qui est égal à 0.1915. De plus, nous avons constaté que l'indice de la Silhouette atteint une valeur maximale lorsque le nombre de classifications atteint 11. C'est-à-dire, si nous faisons un clustering de 11 classes, les classes seront mieux séparées l'un de l'autre."
   ]
  },
  {
   "cell_type": "markdown",
   "metadata": {},
   "source": [
    "## Test"
   ]
  },
  {
   "cell_type": "markdown",
   "metadata": {},
   "source": [
    "De même, nous faisons un vote à la majorité pour attribuer un label à chaque cluster (la classe la plus représentée dans chaque cluster)"
   ]
  },
  {
   "cell_type": "code",
   "execution_count": 25,
   "metadata": {},
   "outputs": [
    {
     "name": "stdout",
     "output_type": "stream",
     "text": [
      "[9, 3, 5, 2, 8, 0, 6, 7, 4, 1]\n"
     ]
    }
   ],
   "source": [
    "Hlabels=[]\n",
    "for i in range(Hclustering.n_clusters):\n",
    "    label=y[Hclustering.labels_==i].value_counts().index[0]\n",
    "    Hlabels.append(label)\n",
    "\n",
    "print(Hlabels)"
   ]
  },
  {
   "cell_type": "markdown",
   "metadata": {},
   "source": [
    "Et nous dessinons nos données dans l'ordre des nouveaux labels :"
   ]
  },
  {
   "cell_type": "code",
   "execution_count": 26,
   "metadata": {
    "scrolled": true
   },
   "outputs": [
    {
     "data": {
      "image/png": "[encoded data removed]",
      "text/plain": [
       "<Figure size 864x720 with 100 Axes>"
      ]
     },
     "metadata": {
      "needs_background": "light"
     },
     "output_type": "display_data"
    }
   ],
   "source": [
    "Hclustering.labels_=np.choose(Hclustering.labels_,Hlabels).astype(np.int64)\n",
    "\n",
    "plt.rcParams['figure.figsize'] = (12, 10)\n",
    "for c in range(Hclustering.n_clusters):\n",
    "    x=X[Hclustering.labels_==c].sample(10,replace=False)\n",
    "    for i in range(10):\n",
    "        plt.subplot(10,10,c*10+i+1)\n",
    "        d=x.iloc[i].to_numpy()\n",
    "        d.shape=(8,8)\n",
    "        plt.imshow(255-d,cmap='gray')\n",
    "        plt.axis('off')"
   ]
  },
  {
   "cell_type": "code",
   "execution_count": 27,
   "metadata": {},
   "outputs": [
    {
     "name": "stdout",
     "output_type": "stream",
     "text": [
      "Confusion matrix\n",
      "[[176   0   0   0   2   0   0   0   0   0]\n",
      " [  0 105  24   0   0   1   2   0   0  50]\n",
      " [  1   3 141   7   0   0   0   2  22   1]\n",
      " [  0   1   0 162   0   2   0   9   9   0]\n",
      " [  0   4   0   0 127   0   3   3   5  39]\n",
      " [  0   0   0  13   1 166   1   0   0   1]\n",
      " [  1   3   0   0   1   1 175   0   0   0]\n",
      " [  0   0   0   0   0   0   0 156   2  21]\n",
      " [  0  18   1   4   0   1   1   1 137  11]\n",
      " [  0   0   0 143   0   2   0   3   4  28]]\n",
      "Classification report\n",
      "              precision    recall  f1-score   support\n",
      "\n",
      "           0       0.99      0.99      0.99       178\n",
      "           1       0.78      0.58      0.66       182\n",
      "           2       0.85      0.80      0.82       177\n",
      "           3       0.49      0.89      0.63       183\n",
      "           4       0.97      0.70      0.81       181\n",
      "           5       0.96      0.91      0.94       182\n",
      "           6       0.96      0.97      0.96       181\n",
      "           7       0.90      0.87      0.88       179\n",
      "           8       0.77      0.79      0.78       174\n",
      "           9       0.19      0.16      0.17       180\n",
      "\n",
      "    accuracy                           0.76      1797\n",
      "   macro avg       0.79      0.76      0.77      1797\n",
      "weighted avg       0.78      0.76      0.76      1797\n",
      "\n"
     ]
    }
   ],
   "source": [
    "num_test=X_test.shape[0]\n",
    "pre_test=np.zeros(num_test,dtype=y_test.dtype)\n",
    "\n",
    "Hclustering.cluster_centers=np.array([X[Hclustering.labels_==i].to_numpy().mean(axis=0) for i in range(Hclustering.n_clusters)])\n",
    "\n",
    "for i in range(num_test):\n",
    "    distances=np.linalg.norm(X_test.iloc[i].to_numpy()-Hclustering.cluster_centers,axis=1)\n",
    "    closest_cluster=np.argmin(distances)\n",
    "    pre_test[i]=closest_cluster\n",
    "\n",
    "\n",
    "cm = confusion_matrix(y_test,pre_test,labels=range(10))\n",
    "print(\"Confusion matrix\")\n",
    "print(cm)\n",
    "print(\"Classification report\")\n",
    "print(classification_report(y_test,pre_test))"
   ]
  },
  {
   "cell_type": "markdown",
   "metadata": {},
   "source": [
    "D'après les résultats ci-dessus, nous pouvons constater que, de même, le résultat de \"0\" est le meilleur, suivi de \"6\", de \"5\" et de \"9\" qui a le pire effet de classification. Le taux de précision globale a atteint 76%, ce qui n'est que légèrement pire que le résultat de K-Means.\n",
    "\n",
    "Les deux modèles présentent des différences subtiles dans l'effet de classification de différents nombres, mais dans l'ensemble, l'effet n'est pas très différent."
   ]
  },
  {
   "cell_type": "markdown",
   "metadata": {},
   "source": [
    "## Comparaison de critères Ward et Single"
   ]
  },
  {
   "cell_type": "code",
   "execution_count": 28,
   "metadata": {},
   "outputs": [
    {
     "data": {
      "image/png": "[encoded data removed]",
      "text/plain": [
       "<Figure size 504x360 with 1 Axes>"
      ]
     },
     "metadata": {
      "needs_background": "light"
     },
     "output_type": "display_data"
    }
   ],
   "source": [
    "H_single=AgglomerativeClustering(n_clusters=10,affinity='euclidean',linkage='single')\n",
    "H_single.fit(X)\n",
    "\n",
    "plt.figure(figsize=(7, 5))\n",
    "plt.hist(H_single.labels_,histtype='bar',rwidth=0.8)\n",
    "plt.xlabel('cluster')\n",
    "plt.ylabel('Nb')\n",
    "plt.title('histogramme du nombre de chiffres de chaque classe')\n",
    "plt.show()"
   ]
  },
  {
   "cell_type": "code",
   "execution_count": 29,
   "metadata": {},
   "outputs": [
    {
     "data": {
      "image/png": "[encoded data removed]",
      "text/plain": [
       "<Figure size 720x504 with 1 Axes>"
      ]
     },
     "metadata": {
      "needs_background": "light"
     },
     "output_type": "display_data"
    }
   ],
   "source": [
    "plt.figure(figsize=(10, 7))\n",
    "plt.title(\"Dendograms\")\n",
    "dend = shc.dendrogram(shc.linkage(X, method='single'))\n",
    "plt.axhline(y=410)\n",
    "plt.show()"
   ]
  },
  {
   "cell_type": "markdown",
   "metadata": {},
   "source": [
    "D'après les résultats, nous pouvons voir que lorsque single est utilisé comme critère, nous ne pouvons pas du tout obtenir un bon résultat de clustering. Parce qu'il utilise à chaque fois la distance minimale entre deux classes comme distance entre les classes, il ne peut pas bien mesurer l'écart entre les groupes."
   ]
  }
 ],
 "metadata": {
  "kernelspec": {
   "display_name": "Python 3",
   "language": "python",
   "name": "python3"
  },
  "language_info": {
   "codemirror_mode": {
    "name": "ipython",
    "version": 3
   },
   "file_extension": ".py",
   "mimetype": "text/x-python",
   "name": "python",
   "nbconvert_exporter": "python",
   "pygments_lexer": "ipython3",
   "version": "3.7.4"
  },
  "toc": {
   "base_numbering": 1,
   "nav_menu": {},
   "number_sections": true,
   "sideBar": true,
   "skip_h1_title": false,
   "title_cell": "Table of Contents",
   "title_sidebar": "Contents",
   "toc_cell": false,
   "toc_position": {},
   "toc_section_display": true,
   "toc_window_display": true
  }
 },
 "nbformat": 4,
 "nbformat_minor": 2
}
