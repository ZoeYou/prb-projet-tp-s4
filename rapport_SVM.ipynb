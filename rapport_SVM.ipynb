{
 "cells": [
  {
   "cell_type": "markdown",
   "metadata": {
    "colab_type": "text",
    "id": "qdkHn7GSszVQ"
   },
   "source": [
    "**Nom et prénoms du binôme : MONNOT Clément / ZUO You**\n",
    "\n",
    "**ENSIIE**\n",
    "\n",
    "**Date : 24/5/2020**"
   ]
  },
  {
   "cell_type": "markdown",
   "metadata": {
    "colab_type": "text",
    "id": "zBs0GsYPszVR"
   },
   "source": [
    " <font size=5><center size=10> TP Séparateurs à Vaste Marge – « SVM» <center/><font/>\n",
    "    \n",
    "<center>-  J. Boudy - TSP –<center/>\n",
    "\n",
    "<font size = 3.5><center>Version sous Python<center/><font/>\n"
   ]
  },
  {
   "cell_type": "markdown",
   "metadata": {
    "colab_type": "text",
    "id": "P1YlaN9IszVR"
   },
   "source": [
    "## Partie I : Les Séparateurs à Vaste Marge et Méthodes de Fusion – questions théoriques (partie TD)"
   ]
  },
  {
   "cell_type": "markdown",
   "metadata": {
    "colab_type": "text",
    "id": "y0Cpg-bJszVS"
   },
   "source": [
    "### 1) Quel est le titre correspondant en anglais de l’approche de classification « Séparateurs à Vaste Marge » ? Pourquoi ? Rappeler en quelques lignes le principe de cette approche ? "
   ]
  },
  {
   "cell_type": "markdown",
   "metadata": {
    "colab_type": "text",
    "id": "XfGJy3B9tUrX"
   },
   "source": [
    "Le titre anglais est « Support vector machines ». \n",
    "\n",
    "Les vecteurs supports désignent les points les plus proches de l’hyperplan optimal car leurs vecteurs parallèles à l’hyperplan optimal délimitent la marge optimale autour de l’hyperplan optimal. \n",
    "\n",
    "Le but de cette méthode est d’avoir un hyperplan qui maximise sa distance par rapport aux points les plus proches de chaque classe. \n",
    "\n",
    "De plus, si aucune solution linéaire n’est possible, cette approche peut aussi transformer l’espace de représentation des données pour passer dans une dimension plus élevée et d’obtenir une séparation linéaire."
   ]
  },
  {
   "cell_type": "markdown",
   "metadata": {
    "colab_type": "text",
    "id": "N8KRLQ6xszVS"
   },
   "source": [
    "### 2) Qu’est-ce que le passage du Problème d’Optimisation Primal au Problème Dual ? expliciter par quelques équations (écrites à la main et scannées pour inclusion dans ce compte-rendu électronique)."
   ]
  },
  {
   "cell_type": "markdown",
   "metadata": {
    "colab_type": "text",
    "id": "rCnmek-21Xuv"
   },
   "source": [
    "Le problème primal consiste à minimiser:\n",
    "$$\\left\\{\\begin{array}{l}\n",
    "\\min \\frac{1}{2}\\|w\\|^2\\\\ \n",
    "i=1,\\ldots,L,\\quad y_i(w\\cdot X_i+b)\\geq 1\n",
    "\\end{array}\\right.$$\n",
    "\n",
    "On optimise le problème primal en problème dual pour permettre une réduction du nombre de variables en faisant d’abord une transformation du problème primal sous contrainte de Lagrange :\n",
    "$$Lp(w,b,\\alpha)=\\frac{1}{2}\\|w\\|^2-\\sum_i \\alpha_i[Y_i(w \\cdot X_i+b)-1]$$\n",
    "où $\\alpha_i\\geq0$.\n",
    "\n",
    "Puis on va chercher un minorant, noté $Ld$, du critère de Lagrange $Lp$ : \n",
    "\n",
    "$$max⁡{\\{Ld(α)\\}}≤min⁡{\\{Lp(w,b,α)\\}}$$\n",
    "\n",
    "On peut alors transformer le problème en se passant des deux variables $w$ et $b$ optimales et maximiser selon $\\alpha \\gt 0$:\n",
    "$$\\left\\{\\begin{array}{l}\n",
    "w^*=\\sum_{i=1}^n\\alpha_i^*y_ix_i\\\\ \n",
    "\\sum_{i=1}^n \\alpha_iy_i=0\n",
    "\\end{array}\\right.$$\n",
    "\n",
    "donc on obtient la formulation du critère dual suivante :\n",
    "\n",
    "$$\\left\\{\\begin{array}{l}\n",
    "\\max \\sum_{i=1}^n \\alpha_i - \\frac{1}{2}\\sum_{i,j}\\alpha_i \\alpha_jy_iy_jx_i\\cdot x_j\\\\ \n",
    "\\forall i,\\alpha_i \\gt 0\\\\\n",
    "\\sum_{i=1}^n \\alpha_i y_i = 0\n",
    "\\end{array}\\right.$$"
   ]
  },
  {
   "cell_type": "markdown",
   "metadata": {
    "colab_type": "text",
    "id": "LZQnvQczszVT"
   },
   "source": [
    "### 3) Rappeler les 3 principales fonctions noyaux (Kernel), en donnant leurs relations mathématiques, utilisées avec les SVM. Quel critère doit vérifier une fonction noyau ? Que se passe-t-il respectivement pour un noyau polynomial d’ordre 1 et un noyau de type sigmoïde ? à quels algorithmes connus de classification peut-on les rattacher ? Donner la relation de la fonction de décision utilisée par l’algorithme des SVM faisant alors intervenir la fonction noyau dans le cas général ? \n"
   ]
  },
  {
   "cell_type": "markdown",
   "metadata": {
    "colab_type": "text",
    "id": "08QbDXsr7UBk"
   },
   "source": [
    "Les trois principales fonctions noyaux:\n",
    "1. Noyau linéaire :        $\\mathcal{K}(x,x')=x\\cdot x'$\n",
    "2. Noyau Polynomial : $\\mathcal{K}(x,x')=(c+x\\cdot x')^d$\n",
    "3. Noyau Gaussien ou RBF : $\\mathcal{K}(x,x')=e^{-\\frac{\\|x-x'\\|^2}{\\sigma}}$\n",
    "\n",
    "Une fonction noyau doit être continue et symétrique et elle vérifie la condition de Mercer (existence d'un developpement en série de convergence absolue, uniforme et semi-définie positive). La fonction noyau est le produit scalaire de deux applications:\n",
    "$$\\mathcal{K}(x,x')=\\Phi(x)\\cdot \\Phi(x') $$\n",
    "\n",
    "Pour un noyau polynomial, quand son ordre est égal à 1, il devient un noyau linéaire. Et pour un noyau type sigmoïde ayant la formule $\\mathcal{K}(x,x')=tanh(\\gamma x\\cdot x'+c)$, c'est équivalent à un réseau de neurones sans couches cachées.\n",
    "\n",
    "La fonction de décision est la suivante :\n",
    "$$f(x)=\\sum_{i=1}^n \\alpha_i^*y_i \\Phi(x_i)\\cdot \\Phi(x)+b $$"
   ]
  },
  {
   "cell_type": "markdown",
   "metadata": {
    "colab_type": "text",
    "id": "icBt6-DnszVT"
   },
   "source": [
    "### 4) Quel est l’intérêt de la méthode de Fusion de données fondée sur la théorie de Dempster-Shafer (Belief Theory), notamment par rapport à d’autres approches de fusion ? rappeler en quelques lignes les principales définitions mathématiques et la relation fondamentale la caractérisant ?"
   ]
  },
  {
   "cell_type": "markdown",
   "metadata": {
    "colab_type": "text",
    "id": "wEhaEPh3MbAi"
   },
   "source": [
    "1. Approche de fusion fondée sur des Règles-d'experts qui n'a pas besoin du processus d'apprentissage de modèles.\n",
    "2. Combiner les concepts de la logique floue avec le formalisme probabiliste.\n",
    "3. Permettre de traiter **le degré d'incertitude et l’hétérogénéité des données** acquises avec **plusieurs capteurs/modalités hétérogènes** .\n",
    "4. Approche pouvant répondre au problème de rareté d’exemples de situations réelles à détecter nécessaires à une modélisation statistique.\n",
    "\n",
    "Soit un espace de discernement:\n",
    "$$\\Theta=\\{A,B\\}$$\n",
    "\n",
    "Où A et B sont des états qui peuvent être observés, on a alors son Power Set:\n",
    "$$P(\\Theta)=\\{\\phi,\\{A\\},\\{B\\},\\Theta\\}$$\n",
    "\n",
    "Selon la critère de BPA (Basic Probability Assignment) ou de BBA (Basic Belief Assignment), on obtient la fonction de masse suivante :\n",
    "$$m(A): Croyance\\ en\\ A$$\n",
    "en satisfaisant les conditions:\n",
    "$$\\begin{array}{l}\n",
    "m(\\phi)=0\\\\ \n",
    "\\sum_{A \\in \\Theta}=1\n",
    "\\end{array}$$\n",
    "\n",
    "Pour chaque élément $A$ dans l'espace $\\Phi$, on a:\n",
    "$$\\begin{array}{l}\n",
    "Croyance:\\quad &Bel(A)=\\sum_{B|B\\subseteq A }m(B)\\\\ \n",
    "Plausibilité:&Pl(A)=\\sum_{B|B\\cap A\\neq0}m(B)\\\\\n",
    "Intervalle\\ de\\ croyance:&Bel(A)\\leq \\mathcal{I}(A) \\leq Pl(A)\n",
    "\\end{array}$$\n",
    "\n",
    "On a des masse associées à $ns$ classifieurs ou experts:\n",
    "$$m=[m_1,\\ldots,m_{ns}]$$\n",
    "\n",
    "la fusion des masses des $ns$ classifieurs sera:\n",
    "$$m_1(A)\\oplus\\ldots \\oplus m_{ns}(A)=\\frac{\\sum_{B\\cap\\ldots \\cap C=A}m_1(B)\\ldots m_{ns}(C)}{1-K}$$\n",
    "\n",
    "où $K=\\sum_{B\\cap\\ldots \\cap C=\\phi}m_1(B)\\ldots m_{ns}(C)$ est le coefficient de conflit, et $0\\leq  K \\leq 1$."
   ]
  },
  {
   "cell_type": "markdown",
   "metadata": {
    "colab_type": "text",
    "id": "767EhdYTszVU"
   },
   "source": [
    "### 5) Un jeu de 20 articles (théoriques ou applicatifs) est joint à cet énoncé. En choisir un et résumer la problématique posée par les auteurs et les solutions qui y sont proposées (en maxi 15 lignes de traitement de texte Word)."
   ]
  },
  {
   "cell_type": "markdown",
   "metadata": {
    "colab_type": "text",
    "id": "bU1_Pq7wNgwd"
   },
   "source": [
    "Article : Fusion de données Télévigilance-REE2014\n",
    "\n",
    "  Dans le cadre de la télévigilance médicale pour la surveillance des chutes chez les personnes dépendantes qui sont principalement des personnes âgées, les dispositifs existants possèdent un déploiement spécifique et récoltent donc des données homogènes. L’article présente un déploiement de plusieurs dispositifs qui récoltent des types différents de données ce qui amène le problème de l’analyse de ces données hétérogènes pour détecter une chute (la sensibilité) et éviter le plus possible les fausses alertes (la spécificité) ou les suspicions d’une chute.\n",
    "  \n",
    "  Pour pallier à ce problème de données hétérogènes, l’article propose la \n",
    "fusion de ces données à plusieurs moments lors de la chaîne de récolte et d’analyse de ces données. La fusion de ces données peut se faire à l’aide de la logique floue ou de la théorie des croyances de Dempster et Shafer appliquée sur des réseaux d’évidence. Une tentative fut faite avec la fusion des scores mais à cause de la grande diversité des types de données, cette approche fut peu convaincante comparée à celles mentionnées plus tôt.\n",
    "\n",
    "\n"
   ]
  },
  {
   "cell_type": "markdown",
   "metadata": {
    "colab_type": "text",
    "id": "mfV_MqBINhH4"
   },
   "source": [
    "## Partie II : Simulation d’un SVM et d’une Fusion de données fondée sur la théorie de Dempster-Shafer (partie TP)"
   ]
  },
  {
   "cell_type": "markdown",
   "metadata": {
    "colab_type": "text",
    "id": "VUipCdwQNlOM"
   },
   "source": [
    "### 6)\tDe quel type sont les données à traiter ? A quoi correspondent les différentes colonnes ? Quels paramètres différentient les données normales de celles anormales (situations de détresses). Pour ce faire consulter les fichiers de données  *Donnees_Televigilance_09-10-08.txt* ou *bradydora_09-10-08_labels_modifié.txt* "
   ]
  },
  {
   "cell_type": "markdown",
   "metadata": {
    "colab_type": "text",
    "id": "VugXm7g9N5lV"
   },
   "source": [
    "```\n",
    "Exemple de données extraites du fichier en question :\n",
    "0 07-06-2006 11:04:18 0 0 0 0 15 042\n",
    "0 07-06-2006 11:04:48 0 0 0 0 15 041\n",
    "0 07-06-2006 11:05:00 0 0 0 0 15 061\n",
    "0 07-06-2006 11:05:30 0 0 0 0 15 082\n",
    "\n",
    "0 07-06-2006 14:30:00 0 0 1 0 15 028\n",
    "0 07-06-2006 14:30:30 0 0 1 0 10 039\n",
    "0 07-06-2006 14:31:00 0 0 1 0 00 039\n",
    "0 07-06-2006 14:31:30 0 0 1 0 00 036\n",
    "```"
   ]
  },
  {
   "cell_type": "markdown",
   "metadata": {
    "colab_type": "text",
    "id": "z7ovf3onl0Zi"
   },
   "source": [
    "Les données à traiter sont des données continues pour la plus part et certaines sont discrètes. La 2ème et 3ème colonne correspondent à la dte et l'heure, la 6ème correspond à la position horizontale ou verticale de la personne et enfin la dernière colonne correspond au rythme cardiaque de cette personne.\n",
    "\n",
    "La position de la personne et le rythme cardiaque sont des paramètres importants pour déterminer si une situation de détresse a lieu. Un ryhtme cardiaque inférieur à 40 et une position à 1 (horizontale)."
   ]
  },
  {
   "cell_type": "markdown",
   "metadata": {
    "colab_type": "text",
    "id": "br3dHwtcN5u1"
   },
   "source": [
    "### 7)\tImplémenter le programme de SVM provenant de la librairie ScikitLearn (sous Python) dans votre environnement Anaconda dont des éléments de programmation sont donnés en Annexe 1 avec trois jeux de données de Télévigilance.  Exécuter le programme pour les différents types de noyaux (linéaire, gaussien et polynomial). Que remarquer en commentant les résultats "
   ]
  },
  {
   "cell_type": "code",
   "execution_count": 1,
   "metadata": {
    "colab": {},
    "colab_type": "code",
    "id": "uYsKomuzszVk"
   },
   "outputs": [],
   "source": [
    "\"\"\"\n",
    "Created on Mon May 11 16:10:58 2020\n",
    "@author: boudy\n",
    "\"\"\"\n",
    "from pylab import *\n",
    "import numpy as np\n",
    "from sklearn import svm\n",
    "from sklearn.svm import SVC\n",
    "import matplotlib.pyplot as plt\n",
    "\n",
    "\n",
    "linear_svc = svm.SVC(kernel='linear')\n",
    "rbf_svc = svm.SVC(kernel='rbf')\n",
    "polynomial_svc = svm.SVC(kernel='poly')"
   ]
  },
  {
   "cell_type": "code",
   "execution_count": 2,
   "metadata": {
    "colab": {
     "base_uri": "https://localhost:8080/",
     "height": 33
    },
    "colab_type": "code",
    "id": "Em2XFWjaszVm",
    "outputId": "6130484b-333d-4087-fcb7-3e48a83ef165"
   },
   "outputs": [
    {
     "name": "stdout",
     "output_type": "stream",
     "text": [
      "[1] [1] [0]\n"
     ]
    }
   ],
   "source": [
    "# Tests préliminaires de prise en main des commandes principales pour exécuter une prédiction par l’algorithme SVM sous Python :\n",
    "X = [[0, 0], [1, 1]]\n",
    "y = [0, 1]\n",
    "clf = svm.SVC()\n",
    "clf.fit(X, y)\n",
    "\n",
    "Val_pred1=clf.predict([[2., 2.]])\n",
    "Val_pred2=clf.predict([[2., 0.]])\n",
    "Val_pred3=clf.predict([[0., 0.]])\n",
    "print(Val_pred1,Val_pred2,Val_pred3)"
   ]
  },
  {
   "cell_type": "code",
   "execution_count": 3,
   "metadata": {
    "colab": {},
    "colab_type": "code",
    "id": "5ewrWC8pszVo"
   },
   "outputs": [],
   "source": [
    "########### Données d'Apprentissage et de Test indépendantes pour le SVM ##########"
   ]
  },
  {
   "cell_type": "code",
   "execution_count": 4,
   "metadata": {
    "colab": {},
    "colab_type": "code",
    "id": "eRA5wBXgszVt"
   },
   "outputs": [],
   "source": [
    "#------- Jeu de données n°1 --------\n",
    "#--- Apprentissage à partir de 8 exemples de dimension N=2 Feature X=(Mvt,Pouls)\n",
    "X1 = [[15, 42], [15, 41], [14, 61], [3, 70], [0, 58], [15, 37], [4, 38], [2, 42]]\n",
    "y1 = [0, 0, 0, 0, 1, 1, 1, 1]\n",
    "\n",
    "# Données de Test (prédiction)\n",
    "Lab_reels1 = [0, 1, 1, 1, 0]\n",
    "#X_test1=[[15., 60.], [2., 42.], [4, 39], [2, 35], [15, 41]]\n",
    "X_test1=[[15., 60.], [2., 42.], [4, 39], [2, 35], [15, 36]]\n",
    "\n",
    "#------- Jeu de données n°2 --------\n",
    "#--- Apprentissage à partir de 16 exemples de dimension N=2 Feature X=(Mvt,Pouls)\n",
    "X2 = [[15, 42], [15, 41], [14, 61], [3, 70], [13, 40], [14, 43], [11, 65], [3, 70], [0, 58], [15, 37], [4, 38], [2, 42], [2, 59], [13, 33], [5, 38], [0, 35]]\n",
    "y2 = [0, 0, 0, 0, 0, 0, 0, 0, 1, 1, 1, 1, 1, 1, 1, 1]\n",
    "\n",
    "# Données de Test (prédiction)\n",
    "Lab_reels2 = [0, 0, 1, 1, 1, 1, 0, 0]\n",
    "X_test2=[[15., 60.], [2., 42.], [4, 39], [2, 35], [15, 36], [14, 39], [3, 80], [3, 60]]\n",
    "\n",
    "#------- Jeu de données n°3 --------\n",
    "#--- Apprentissage à partir de 16 exemples de dimension N=3 Feature X=(Mvt,Pouls, SpO2)\n",
    "X3 = [[15, 56, 92], [15, 58, 93], [14, 61, 90], [3, 70, 89], [13, 41, 86], [14, 70, 91], [11, 65, 92], [3, 70, 90], [0, 58, 85], [15, 37, 80], [4, 38, 75], [2, 42, 84], [2, 40, 85], [13, 33, 74], [5, 38, 84], [0, 35, 80]]\n",
    "y3 = [0, 0, 0, 0, 0, 0, 0, 0, 1, 1, 1, 1, 1, 1, 1, 1]\n",
    "\n",
    "# Données de Test (prédiction)\n",
    "Lab_reels3 = [0, 0, 1, 1, 1, 1, 0, 0]\n",
    "X_test3=[[15., 60., 90.], [2., 42., 89.], [4., 39., 75.], [2., 35., 80.], [15., 36., 82.], [14., 39., 79.], [3., 80., 91.], [3., 60.,93.]]"
   ]
  },
  {
   "cell_type": "markdown",
   "metadata": {
    "colab_type": "text",
    "id": "Nh-M-3Us8Znb"
   },
   "source": [
    "#### données n°1"
   ]
  },
  {
   "cell_type": "code",
   "execution_count": 5,
   "metadata": {
    "colab": {
     "base_uri": "https://localhost:8080/"
    },
    "colab_type": "code",
    "id": "hfOIeiA5szV1",
    "outputId": "e5dd77bc-eb62-403c-9636-127fdbff43b5"
   },
   "outputs": [
    {
     "name": "stdout",
     "output_type": "stream",
     "text": [
      "[[15. 41.]\n",
      " [ 0. 58.]\n",
      " [15. 37.]]\n",
      "[1 4 5]\n",
      "[1 2]\n"
     ]
    },
    {
     "data": {
      "image/png": "[encoded data removed]",
      "text/plain": [
       "<Figure size 432x288 with 1 Axes>"
      ]
     },
     "metadata": {
      "needs_background": "light"
     },
     "output_type": "display_data"
    }
   ],
   "source": [
    "####################################\n",
    "# Noyau Linéaire\n",
    "# ------ Apprentissage ------\n",
    "clf = svm.SVC(kernel='linear')\n",
    "clf.fit(X1, y1)\n",
    "\n",
    "print(clf.support_vectors_)\n",
    "print(clf.support_)\n",
    "print(clf.n_support_)\n",
    "\n",
    "plt.scatter([x10[0] for x10 in X1],[x11[1] for x11 in X1],c=y1,s=30,cmap=plt.cm.Paired)\n",
    "#plot hyperplane\n",
    "ax=plt.gca()\n",
    "xlim=ax.get_xlim()\n",
    "ylim=ax.get_ylim()\n",
    "xx=np.linspace(xlim[0],xlim[1],30)\n",
    "yy=np.linspace(ylim[0],ylim[1],30)\n",
    "XX,YY=np.meshgrid(xx,yy)\n",
    "xy = np.vstack([XX.ravel(),YY.ravel()]).T \n",
    "Z=clf.decision_function(xy).reshape(XX.shape)\n",
    "ax.contour(XX,YY,Z, colors='k',levels=[-1,0,1],alpha=0.5,linestyles=['--','-','--']) \n",
    "ax.scatter(clf.support_vectors_[:,0],clf.support_vectors_[:,1],s=600,linewidth=1,facecolors='none',edgecolors='y')\n",
    "plt.show()"
   ]
  },
  {
   "cell_type": "code",
   "execution_count": 6,
   "metadata": {
    "colab": {
     "base_uri": "https://localhost:8080/"
    },
    "colab_type": "code",
    "id": "eLsF81JtszV4",
    "outputId": "174d6024-22bc-4eab-bead-b3894079e8a3"
   },
   "outputs": [
    {
     "name": "stdout",
     "output_type": "stream",
     "text": [
      "Erreurs Kernel Linéaire : [0 0 0 0 1]\n",
      "Taux_Reco Noyau Linéaire en % : 80.0\n"
     ]
    }
   ],
   "source": [
    "# ------ Test ------\n",
    "Val_pred_lin=clf.predict(X_test1)\n",
    "\n",
    "delta_Lab=Val_pred_lin-Lab_reels1\n",
    "print('Erreurs Kernel Linéaire :',delta_Lab)\n",
    "Nb_erreurs=sum(abs(delta_Lab))\n",
    "Taux_erreurs_LinKern=Nb_erreurs/size(Lab_reels1)\n",
    "Taux_Reco=(1-Taux_erreurs_LinKern)*100\n",
    "print('Taux_Reco Noyau Linéaire en % :',Taux_Reco)"
   ]
  },
  {
   "cell_type": "code",
   "execution_count": 7,
   "metadata": {
    "colab": {
     "base_uri": "https://localhost:8080/"
    },
    "colab_type": "code",
    "id": "Jx7HBeFjszV8",
    "outputId": "6d6cbf8e-b3d1-439f-f06a-bbfbcdea59a4"
   },
   "outputs": [
    {
     "name": "stdout",
     "output_type": "stream",
     "text": [
      "[[15. 42.]\n",
      " [15. 41.]\n",
      " [14. 61.]\n",
      " [ 3. 70.]\n",
      " [ 0. 58.]\n",
      " [15. 37.]\n",
      " [ 4. 38.]\n",
      " [ 2. 42.]]\n",
      "[0 1 2 3 4 5 6 7]\n",
      "[4 4]\n"
     ]
    },
    {
     "data": {
      "image/png": "[encoded data removed]",
      "text/plain": [
       "<Figure size 432x288 with 1 Axes>"
      ]
     },
     "metadata": {
      "needs_background": "light"
     },
     "output_type": "display_data"
    }
   ],
   "source": [
    "################################\n",
    "# Noyau RBF (Gaussien)\n",
    "# ------ Apprentissage ------\n",
    "clf = svm.SVC(kernel='rbf',gamma=0.005)\n",
    "#<à compléter>\n",
    "clf.fit(X1, y1)\n",
    "\n",
    "print(clf.support_vectors_)\n",
    "print(clf.support_)\n",
    "print(clf.n_support_)\n",
    "\n",
    "XX,YY=np.meshgrid(np.linspace(0,40,500),np.linspace(-10,80,500))\n",
    "xy=np.vstack([XX.ravel(),YY.ravel()]).T\n",
    "Z=clf.decision_function(xy).reshape(XX.shape)\n",
    "plt.pcolormesh(XX, YY, Z > 0, cmap=plt.cm.Paired)\n",
    "plt.contour(XX,YY,Z,colors=['k','k','k'],levels=[-1,0,1],linestyles=['--','-','--'])\n",
    "plt.scatter([x10[0] for x10 in X1],[x11[1] for x11 in X1],c =y1, s=30,cmap=plt.cm.Paired,  edgecolors='k')\n",
    "plt.scatter(clf.support_vectors_[:,0],clf.support_vectors_[:,1], s=80,facecolors='none', edgecolors='y')\n",
    "plt.xticks()\n",
    "plt.yticks()\n",
    "plt.show()"
   ]
  },
  {
   "cell_type": "code",
   "execution_count": 8,
   "metadata": {
    "colab": {
     "base_uri": "https://localhost:8080/"
    },
    "colab_type": "code",
    "id": "NRT23qd4szWA",
    "outputId": "9d888fc9-ef47-40f2-bf4b-7471dd8e0b0e"
   },
   "outputs": [
    {
     "name": "stdout",
     "output_type": "stream",
     "text": [
      "Erreurs Kernel RBF : [0 0 0 0 0]\n",
      "Taux_Reco Noyau RBF ou Gaussien en % : 100.0\n"
     ]
    }
   ],
   "source": [
    "# ------ Test ------\n",
    "Val_pred_rbf=clf.predict(X_test1) #<à compléter>\n",
    "\n",
    "\n",
    "delta_Lab=Val_pred_rbf-Lab_reels1 #<à compléter>\n",
    "print('Erreurs Kernel RBF :',delta_Lab)\n",
    "Nb_erreurs=sum(abs(delta_Lab))\n",
    "Taux_erreurs_RbfKern=Nb_erreurs/size(Lab_reels1)\n",
    "Taux_Reco=(1-Taux_erreurs_RbfKern)*100\n",
    "print('Taux_Reco Noyau RBF ou Gaussien en % :',Taux_Reco)"
   ]
  },
  {
   "cell_type": "code",
   "execution_count": 9,
   "metadata": {
    "colab": {
     "base_uri": "https://localhost:8080/"
    },
    "colab_type": "code",
    "id": "omi_bLn-szWD",
    "outputId": "a4f14be4-e90f-4700-f153-d29a61a932c2"
   },
   "outputs": [
    {
     "name": "stdout",
     "output_type": "stream",
     "text": [
      "[[15. 42.]\n",
      " [15. 41.]\n",
      " [ 3. 70.]\n",
      " [ 0. 58.]\n",
      " [15. 37.]]\n",
      "[0 1 3 4 5]\n",
      "[3 2]\n"
     ]
    },
    {
     "data": {
      "image/png": "[encoded data removed]",
      "text/plain": [
       "<Figure size 432x288 with 1 Axes>"
      ]
     },
     "metadata": {
      "needs_background": "light"
     },
     "output_type": "display_data"
    }
   ],
   "source": [
    "##################################\n",
    "# Noyau Polynomial (ordre 3 par défaut)\n",
    "# ------ Apprentissage ------\n",
    "clf = svm.SVC(kernel='poly')\n",
    "clf.fit(X1, y1)\n",
    "\n",
    "print(clf.support_vectors_)\n",
    "print(clf.support_)\n",
    "print(clf.n_support_)\n",
    "\n",
    "XX,YY=np.meshgrid(np.linspace(0,40,500),np.linspace(-10,80,500))\n",
    "xy=np.vstack([XX.ravel(),YY.ravel()]).T\n",
    "Z=clf.decision_function(xy).reshape(XX.shape)\n",
    "plt.pcolormesh(XX, YY, Z > 0, cmap=plt.cm.Paired)\n",
    "plt.contour(XX,YY,Z,colors=['k','k','k'],levels=[-1,0,1],linestyles=['--','-','--'])\n",
    "plt.scatter([x10[0] for x10 in X1],[x11[1] for x11 in X1],c =y1, s=30,cmap=plt.cm.Paired,  edgecolors='k')\n",
    "plt.scatter(clf.support_vectors_[:,0],clf.support_vectors_[:,1], s=80,facecolors='none', edgecolors='y')\n",
    "plt.xticks()\n",
    "plt.yticks()\n",
    "plt.show()"
   ]
  },
  {
   "cell_type": "code",
   "execution_count": 10,
   "metadata": {
    "colab": {
     "base_uri": "https://localhost:8080/"
    },
    "colab_type": "code",
    "id": "KbdK2mwdszWG",
    "outputId": "22d0d8c9-d76a-4a16-f82d-c43ff2ffbaeb"
   },
   "outputs": [
    {
     "name": "stdout",
     "output_type": "stream",
     "text": [
      "Erreurs Kernel Poly : [0 0 0 0 0]\n",
      "Taux_Reco Noyau Polynomial en % : 100.0\n"
     ]
    }
   ],
   "source": [
    "# ------ Test ------\n",
    "Val_pred_poly=clf.predict(X_test1) #<à compléter>\n",
    " \n",
    "delta_Lab=Val_pred_poly-Lab_reels1\n",
    "print('Erreurs Kernel Poly :',delta_Lab)\n",
    "Nb_erreurs=sum(abs(delta_Lab))\n",
    "Taux_erreurs_PolyKern=Nb_erreurs/size(Lab_reels1)\n",
    "Taux_Reco=(1-Taux_erreurs_PolyKern)*100\n",
    "print('Taux_Reco Noyau Polynomial en % :',Taux_Reco)"
   ]
  },
  {
   "cell_type": "markdown",
   "metadata": {
    "colab_type": "text",
    "id": "RQacqNXb6Mor"
   },
   "source": [
    "D'après les résultats ci-dessus, on peut constater que pour la fonction du noyau linéaire, la fonction du noyau polynomiale d'ordre 3 et la fonction du noyau gaussien, le nombre de vecteurs de support SVM augmente progressivement et la fonction du noyau gaussien utilise toutes les données comme vecteur de support.\n",
    "\n",
    "En plus, dans les résultats du test, la fonction du noyau polynomial de degré 3 a atteint une précision allant jusqu'à 100%, la fonction du noyau gaussien d'origine (avec la valeur de gamma valant par défaut 0.001) a un taux de précision de 80% et lorsque nous ajustons la valeur de gamma à 0,005, le taux de précision du résultat du test a également atteint 100%. \n",
    "\n",
    "Nous répéterons ensuite le processus ci-dessus pour l'ensemble de données 2."
   ]
  },
  {
   "cell_type": "markdown",
   "metadata": {
    "colab_type": "text",
    "id": "LoWprecI8i77"
   },
   "source": [
    "#### données n°2"
   ]
  },
  {
   "cell_type": "code",
   "execution_count": 11,
   "metadata": {
    "colab": {
     "base_uri": "https://localhost:8080/",
     "height": 378
    },
    "colab_type": "code",
    "id": "0GdhYZXKOmig",
    "outputId": "029c6e4f-2e6a-4b20-f6b4-779fb8fd19ee"
   },
   "outputs": [
    {
     "name": "stdout",
     "output_type": "stream",
     "text": [
      "[[13. 40.]\n",
      " [14. 43.]\n",
      " [15. 37.]\n",
      " [ 2. 59.]\n",
      " [13. 33.]]\n",
      "[ 4  5  9 12 13]\n",
      "[2 3]\n"
     ]
    },
    {
     "data": {
      "image/png": "[encoded data removed]",
      "text/plain": [
       "<Figure size 432x288 with 1 Axes>"
      ]
     },
     "metadata": {
      "needs_background": "light"
     },
     "output_type": "display_data"
    }
   ],
   "source": [
    "####################################\n",
    "# Noyau Linéaire\n",
    "# ------ Apprentissage ------\n",
    "clf = svm.SVC(kernel='linear')\n",
    "clf.fit(X2, y2)\n",
    "\n",
    "print(clf.support_vectors_)\n",
    "print(clf.support_)\n",
    "print(clf.n_support_)\n",
    "\n",
    "plt.scatter([x20[0] for x20 in X2],[x21[1] for x21 in X2],c=y2,s=30,cmap=plt.cm.Paired)\n",
    "#plot hyperplane\n",
    "ax=plt.gca()\n",
    "xlim=ax.get_xlim()\n",
    "ylim=ax.get_ylim()\n",
    "xx=np.linspace(xlim[0],xlim[1],30)\n",
    "yy=np.linspace(ylim[0],ylim[1],30)\n",
    "XX,YY=np.meshgrid(xx,yy)\n",
    "xy = np.vstack([XX.ravel(),YY.ravel()]).T \n",
    "Z=clf.decision_function(xy).reshape(XX.shape)\n",
    "ax.contour(XX,YY,Z, colors='k',levels=[-1,0,1],alpha=0.5,linestyles=['--','-','--']) \n",
    "ax.scatter(clf.support_vectors_[:,0],clf.support_vectors_[:,1],s=600,linewidth=1,facecolors='none',edgecolors='y')\n",
    "plt.show()"
   ]
  },
  {
   "cell_type": "code",
   "execution_count": 12,
   "metadata": {
    "colab": {
     "base_uri": "https://localhost:8080/",
     "height": 50
    },
    "colab_type": "code",
    "id": "jxRhEyOSyn_H",
    "outputId": "d9933101-d59c-4804-a666-02f88e78b94f"
   },
   "outputs": [
    {
     "name": "stdout",
     "output_type": "stream",
     "text": [
      "Erreurs Kernel Linéaire : [ 0  1  0  0 -1 -1  0  1]\n",
      "Taux_Reco Noyau Linéaire en % : 50.0\n"
     ]
    }
   ],
   "source": [
    "# ------ Test ------\n",
    "Val_pred_lin=clf.predict(X_test2)\n",
    "\n",
    "delta_Lab=Val_pred_lin-Lab_reels2\n",
    "print('Erreurs Kernel Linéaire :',delta_Lab) \n",
    "Nb_erreurs=sum(abs(delta_Lab))\n",
    "Taux_erreurs_LinKern=Nb_erreurs/size(Lab_reels2)\n",
    "Taux_Reco=(1-Taux_erreurs_LinKern)*100\n",
    "print('Taux_Reco Noyau Linéaire en % :',Taux_Reco)"
   ]
  },
  {
   "cell_type": "code",
   "execution_count": 13,
   "metadata": {
    "colab": {
     "base_uri": "https://localhost:8080/",
     "height": 528
    },
    "colab_type": "code",
    "id": "xyrW5j0V8qRu",
    "outputId": "ba13d7e8-29cd-4503-8ce0-eca94a381f5f"
   },
   "outputs": [
    {
     "name": "stdout",
     "output_type": "stream",
     "text": [
      "[[15. 42.]\n",
      " [15. 41.]\n",
      " [14. 61.]\n",
      " [ 3. 70.]\n",
      " [13. 40.]\n",
      " [14. 43.]\n",
      " [ 3. 70.]\n",
      " [ 0. 58.]\n",
      " [15. 37.]\n",
      " [ 4. 38.]\n",
      " [ 2. 42.]\n",
      " [ 2. 59.]\n",
      " [13. 33.]\n",
      " [ 5. 38.]]\n",
      "[ 0  1  2  3  4  5  7  8  9 10 11 12 13 14]\n",
      "[7 7]\n"
     ]
    },
    {
     "data": {
      "image/png": "[encoded data removed]",
      "text/plain": [
       "<Figure size 432x288 with 1 Axes>"
      ]
     },
     "metadata": {
      "needs_background": "light"
     },
     "output_type": "display_data"
    }
   ],
   "source": [
    "################################\n",
    "# Noyau RBF (Gaussien)\n",
    "# ------ Apprentissage ------\n",
    "clf = svm.SVC(kernel='rbf')\n",
    "#<à compléter>\n",
    "clf.fit(X2, y2)\n",
    "\n",
    "print(clf.support_vectors_)\n",
    "print(clf.support_)\n",
    "print(clf.n_support_)\n",
    "\n",
    "XX,YY=np.meshgrid(np.linspace(0,40,500),np.linspace(-10,80,500))\n",
    "xy=np.vstack([XX.ravel(),YY.ravel()]).T\n",
    "Z=clf.decision_function(xy).reshape(XX.shape)\n",
    "plt.pcolormesh(XX, YY, Z > 0, cmap=plt.cm.Paired)\n",
    "plt.contour(XX,YY,Z,colors=['k','k','k'],levels=[-1,0,1],linestyles=['--','-','--'])\n",
    "plt.scatter([x20[0] for x20 in X2],[x21[1] for x21 in X2],c =y2, s=30,cmap=plt.cm.Paired,  edgecolors='k')\n",
    "plt.scatter(clf.support_vectors_[:,0],clf.support_vectors_[:,1], s=80,facecolors='none', edgecolors='y')\n",
    "plt.xticks()\n",
    "plt.yticks()\n",
    "plt.show()"
   ]
  },
  {
   "cell_type": "code",
   "execution_count": 14,
   "metadata": {
    "colab": {
     "base_uri": "https://localhost:8080/",
     "height": 50
    },
    "colab_type": "code",
    "id": "2BLR4cIV8tCN",
    "outputId": "12f48009-2581-4c9e-c89d-c57fd714a866"
   },
   "outputs": [
    {
     "name": "stdout",
     "output_type": "stream",
     "text": [
      "Erreurs Kernel RBF : [0 1 0 0 0 0 0 0]\n",
      "Taux_Reco Noyau RBF ou Gaussien en % : 87.5\n"
     ]
    }
   ],
   "source": [
    "# ------ Test ------\n",
    "Val_pred_rbf=clf.predict(X_test2) #<à compléter>\n",
    "\n",
    "\n",
    "delta_Lab=Val_pred_rbf-Lab_reels2 #<à compléter>\n",
    "print('Erreurs Kernel RBF :',delta_Lab)\n",
    "Nb_erreurs=sum(abs(delta_Lab))\n",
    "Taux_erreurs_RbfKern=Nb_erreurs/size(Lab_reels2)\n",
    "Taux_Reco=(1-Taux_erreurs_RbfKern)*100\n",
    "print('Taux_Reco Noyau RBF ou Gaussien en % :',Taux_Reco)"
   ]
  },
  {
   "cell_type": "code",
   "execution_count": 15,
   "metadata": {
    "colab": {
     "base_uri": "https://localhost:8080/",
     "height": 480
    },
    "colab_type": "code",
    "id": "miGhfW2u8vJM",
    "outputId": "d7eb2e28-202d-479c-adf6-612a2d426e35"
   },
   "outputs": [
    {
     "name": "stdout",
     "output_type": "stream",
     "text": [
      "[[15. 42.]\n",
      " [15. 41.]\n",
      " [ 3. 70.]\n",
      " [13. 40.]\n",
      " [14. 43.]\n",
      " [ 3. 70.]\n",
      " [ 0. 58.]\n",
      " [15. 37.]\n",
      " [ 2. 59.]\n",
      " [13. 33.]\n",
      " [ 5. 38.]]\n",
      "[ 0  1  3  4  5  7  8  9 12 13 14]\n",
      "[6 5]\n"
     ]
    },
    {
     "data": {
      "image/png": "[encoded data removed]",
      "text/plain": [
       "<Figure size 432x288 with 1 Axes>"
      ]
     },
     "metadata": {
      "needs_background": "light"
     },
     "output_type": "display_data"
    }
   ],
   "source": [
    "##################################\n",
    "# Noyau Polynomial (ordre 3 par défaut)\n",
    "# ------ Apprentissage ------\n",
    "clf = svm.SVC(kernel='poly',degree=2)\n",
    "clf.fit(X2, y2)\n",
    "\n",
    "print(clf.support_vectors_)\n",
    "print(clf.support_)\n",
    "print(clf.n_support_)\n",
    "\n",
    "XX,YY=np.meshgrid(np.linspace(0,40,500),np.linspace(-10,80,500))\n",
    "xy=np.vstack([XX.ravel(),YY.ravel()]).T\n",
    "Z=clf.decision_function(xy).reshape(XX.shape)\n",
    "plt.pcolormesh(XX, YY, Z > 0, cmap=plt.cm.Paired)\n",
    "plt.contour(XX,YY,Z,colors=['k','k','k'],levels=[-1,0,1],linestyles=['--','-','--'])\n",
    "plt.scatter([x20[0] for x20 in X2],[x21[1] for x21 in X2],c =y2, s=30,cmap=plt.cm.Paired,  edgecolors='k')\n",
    "plt.scatter(clf.support_vectors_[:,0],clf.support_vectors_[:,1], s=80,facecolors='none', edgecolors='y')\n",
    "plt.xticks()\n",
    "plt.yticks()\n",
    "plt.show()"
   ]
  },
  {
   "cell_type": "code",
   "execution_count": 16,
   "metadata": {
    "colab": {
     "base_uri": "https://localhost:8080/",
     "height": 50
    },
    "colab_type": "code",
    "id": "v9Ww2T7P8xL7",
    "outputId": "4cdb8ebd-a659-4d22-9301-4e33ea523316"
   },
   "outputs": [
    {
     "name": "stdout",
     "output_type": "stream",
     "text": [
      "Erreurs Kernel Poly : [ 0  1  0  0  0 -1  0  0]\n",
      "Taux_Reco Noyau Polynomial en % : 75.0\n"
     ]
    }
   ],
   "source": [
    "# ------ Test ------\n",
    "Val_pred_poly=clf.predict(X_test2) #<à compléter>\n",
    " \n",
    "delta_Lab=Val_pred_poly-Lab_reels2\n",
    "print('Erreurs Kernel Poly :',delta_Lab)\n",
    "Nb_erreurs=sum(abs(delta_Lab))\n",
    "Taux_erreurs_PolyKern=Nb_erreurs/size(Lab_reels2)\n",
    "Taux_Reco=(1-Taux_erreurs_PolyKern)*100\n",
    "print('Taux_Reco Noyau Polynomial en % :',Taux_Reco)"
   ]
  },
  {
   "cell_type": "markdown",
   "metadata": {
    "colab_type": "text",
    "id": "5wIsSZ3xFDEB"
   },
   "source": [
    "Le résultat de la première image montre que l'effet de classification du noyau linéaire n'est pas très satisfaisant. La distance entre certains points des deux catégories est trop petite, ce qui rend difficile la bonne séparation avec des lignes droites. \n",
    "\n",
    "Ensuite, nous avons également utilisé la fonction du noyau gaussien et la fonction du noyau polynomial pour établir le modèle de SVM. Nous avons constaté que cette fois le noyau gaussien a obtenu le meilleur résultat qui est de 87.5% pour le taux de reconnaissance puis pour la fonction polynomial de degré 2, nous avons également obtenu un résultat assez satisfaisant de 75%."
   ]
  },
  {
   "cell_type": "markdown",
   "metadata": {
    "colab_type": "text",
    "id": "VuZHLLaE4hDC"
   },
   "source": [
    "#### données n°3\n",
    "\n",
    "De la même manière, nous avons également construit les modèles pour les données trois, mais en raison des limites du dessin tridimensionnel, nous ne montrons que les résultats numériques ici:"
   ]
  },
  {
   "cell_type": "code",
   "execution_count": 17,
   "metadata": {
    "colab": {
     "base_uri": "https://localhost:8080/"
    },
    "colab_type": "code",
    "id": "2ZRAtHAp4fid",
    "outputId": "8ecbce6d-ce9c-4844-d6be-714ebef9b7fd"
   },
   "outputs": [
    {
     "name": "stdout",
     "output_type": "stream",
     "text": [
      "[[13. 41. 86.]\n",
      " [ 0. 58. 85.]\n",
      " [15. 37. 80.]\n",
      " [ 5. 38. 84.]]\n",
      "[ 4  8  9 14]\n",
      "[1 3]\n",
      "Erreurs Kernel Linéaire : [0 0 0 0 0 0 0 0]\n",
      "Taux_Reco Noyau Linéaire en % : 100.0\n"
     ]
    }
   ],
   "source": [
    "####################################\n",
    "# Noyau Linéaire\n",
    "# ------ Apprentissage ------\n",
    "clf = svm.SVC(kernel='linear')\n",
    "clf.fit(X3, y3)\n",
    "\n",
    "print(clf.support_vectors_)\n",
    "print(clf.support_)\n",
    "print(clf.n_support_)\n",
    "\n",
    "# ------ Test ------\n",
    "Val_pred_lin=clf.predict(X_test3)\n",
    "\n",
    "delta_Lab=Val_pred_lin-Lab_reels3\n",
    "print('Erreurs Kernel Linéaire :',delta_Lab)\n",
    "Nb_erreurs=sum(abs(delta_Lab))\n",
    "Taux_erreurs_LinKern=Nb_erreurs/size(Lab_reels3)\n",
    "Taux_Reco=(1-Taux_erreurs_LinKern)*100\n",
    "print('Taux_Reco Noyau Linéaire en % :',Taux_Reco)"
   ]
  },
  {
   "cell_type": "code",
   "execution_count": 18,
   "metadata": {
    "colab": {
     "base_uri": "https://localhost:8080/"
    },
    "colab_type": "code",
    "id": "lZRJ4O5v5G9t",
    "outputId": "d7d2b6f0-edc1-43aa-e85e-2c32318abf6b"
   },
   "outputs": [
    {
     "name": "stdout",
     "output_type": "stream",
     "text": [
      "[[15. 56. 92.]\n",
      " [15. 58. 93.]\n",
      " [14. 61. 90.]\n",
      " [ 3. 70. 89.]\n",
      " [13. 41. 86.]\n",
      " [11. 65. 92.]\n",
      " [ 3. 70. 90.]\n",
      " [ 0. 58. 85.]\n",
      " [15. 37. 80.]\n",
      " [ 4. 38. 75.]\n",
      " [ 2. 42. 84.]\n",
      " [ 2. 40. 85.]\n",
      " [ 5. 38. 84.]]\n",
      "[ 0  1  2  3  4  6  7  8  9 10 11 12 14]\n",
      "[7 6]\n",
      "Erreurs Kernel RBF : [0 1 0 0 0 0 0 0]\n",
      "Taux_Reco Noyau RBF ou Gaussien en % : 87.5\n"
     ]
    }
   ],
   "source": [
    "################################\n",
    "# Noyau RBF (Gaussien)\n",
    "# ------ Apprentissage ------\n",
    "clf = svm.SVC(kernel='rbf')\n",
    "#<à compléter>\n",
    "clf.fit(X3, y3)\n",
    "\n",
    "print(clf.support_vectors_)\n",
    "print(clf.support_)\n",
    "print(clf.n_support_)\n",
    "\n",
    "# ------ Test ------\n",
    "Val_pred_rbf=clf.predict(X_test3) #<à compléter>\n",
    "\n",
    "\n",
    "delta_Lab=Val_pred_rbf-Lab_reels3 #<à compléter>\n",
    "print('Erreurs Kernel RBF :',delta_Lab)\n",
    "Nb_erreurs=sum(abs(delta_Lab))\n",
    "Taux_erreurs_RbfKern=Nb_erreurs/size(Lab_reels3)\n",
    "Taux_Reco=(1-Taux_erreurs_RbfKern)*100\n",
    "print('Taux_Reco Noyau RBF ou Gaussien en % :',Taux_Reco)"
   ]
  },
  {
   "cell_type": "code",
   "execution_count": 19,
   "metadata": {
    "colab": {
     "base_uri": "https://localhost:8080/"
    },
    "colab_type": "code",
    "id": "XHzb9IGs5fUO",
    "outputId": "68aa0cb7-f330-4120-8500-ee7c9eb2aecd"
   },
   "outputs": [
    {
     "name": "stdout",
     "output_type": "stream",
     "text": [
      "[[ 3. 70. 89.]\n",
      " [13. 41. 86.]\n",
      " [ 0. 58. 85.]\n",
      " [15. 37. 80.]\n",
      " [ 5. 38. 84.]]\n",
      "[ 3  4  8  9 14]\n",
      "[2 3]\n",
      "Erreurs Kernel Poly : [0 0 0 0 0 0 0 0]\n",
      "Taux_Reco Noyau Polynomial en % : 100.0\n"
     ]
    }
   ],
   "source": [
    "##################################\n",
    "# Noyau Polynomial (ordre 3 par défaut)\n",
    "# ------ Apprentissage ------\n",
    "clf = svm.SVC(kernel='poly',degree=4)\n",
    "clf.fit(X3, y3)\n",
    "\n",
    "print(clf.support_vectors_)\n",
    "print(clf.support_)\n",
    "print(clf.n_support_)\n",
    "# ------ Test ------\n",
    "Val_pred_poly=clf.predict(X_test3) #<à compléter>\n",
    " \n",
    "delta_Lab=Val_pred_poly-Lab_reels3\n",
    "print('Erreurs Kernel Poly :',delta_Lab)\n",
    "Nb_erreurs=sum(abs(delta_Lab))\n",
    "Taux_erreurs_PolyKern=Nb_erreurs/size(Lab_reels3)\n",
    "Taux_Reco=(1-Taux_erreurs_PolyKern)*100\n",
    "print('Taux_Reco Noyau Polynomial en % :',Taux_Reco)"
   ]
  },
  {
   "cell_type": "markdown",
   "metadata": {
    "colab_type": "text",
    "id": "10-s_sGWGcay"
   },
   "source": [
    "### 8)\tPour effectuer une Fusion de données avec la méthode de Dempster-Shafer, on ajoute une modalité supplémentaire constituée par la mesure du taux de saturation en oxygène dans le sang (SpO2), ceci par exemple grâce à une montre Whitings  (cf. jeu de données n°3 de la question 7).  \n",
    "\n",
    "Après application des règles de normalité sur la mesure de pouls (Pls) déjà couplée à celle du taux de mouvement ou agitation (Mvt), on désire donc effectuer une fusion avec la mesure de Sp02 à l’aide de la ***Règle de Combinaison de Dempster-Shafer (DS)*** permettant la prise en compte du conflit possible entre modalités à fusionner. \n",
    "\n",
    "On supposera les étapes d’affectation de masses (ou croyances) déjà effectuée ainsi que celle de la prise en compte de la fiabilité des mesures délivrées par les capteurs (Discounting process ou ***Reliability Discounting***). On obtient alors pour chaque événement (Chute / Normal ou non-Chute) le jeu de masses suivant :\n",
    "\n",
    "* {m1(Chute)=0.7,  m1(˥Chute)=0.1, m1(Chute, ˥Chute)=0.2} pour la 1ère modalité composite associée aux mesures de Pls et Mvt converties en masses supposées donc déjà calculées et combinées \n",
    "\n",
    "* {m2(Chute)=0.8,  m2(˥Chute)=0.1, m2(Chute, ˥Chute)=0.1} pour la 2ème modalité associée aux mesures de Sp02 convertie en masse (étape de Croyance) supposée déjà effectuée\n",
    "\n",
    "A l’aide de Python, effectuer un calcul des masses combinées en s’appuyant sur la formule de la **Règle de Combinaison de DS** en calculant au préalable le facteur de conflit K ? Avant de programmer la formule et obtenir les résultats de masses combinées, établir au préalable un tableau de combinaison à la main pour poser soigneusement les étapes de calcul de cette formule (cf. cours).\n",
    "En déduire alors l’intervalle de Croyance-Plausibilité de chaque événement après Fusion ? Qu’en conclure par rapport aux événements détectés par chacune des deux modalités prises séparément ?"
   ]
  },
  {
   "cell_type": "markdown",
   "metadata": {
    "colab_type": "text",
    "id": "JiZJJajJJQPu"
   },
   "source": [
    "|  | $m_1(Chute)=0.7$ | $m_1(˥Chute)=0.1$ | $m_1(Chute,˥Chute)=0.2$ |\n",
    "| :-| :- | :- | :-|\n",
    "| $m_2(Chute)=0.8$ | $m_1\\oplus m_2(Chute)=0.56$ | $m_1\\oplus m_2(\\Phi)=0.08$ | $m_1\\oplus m_2(Chute)=0.16$ |\n",
    "| $m_2(˥Chute)=0.1$ | $m_1\\oplus m_2(\\Phi)=0.07$ | $m_1\\oplus m_2(˥Chute)=0.01$ | $m_1\\oplus m_2(˥Chute)=0.02$ |\n",
    "| $m_2(Chute,˥Chute)=0.1$ | $m_1\\oplus m_2(Chute)=0.07$ | $m_1\\oplus m_2(˥Chute)=0.01$ | $m_1\\oplus m_2(Chute,˥Chute)=0.02$ |\n",
    "\n",
    "$K = 0.08+0.07 = 0.15$"
   ]
  },
  {
   "cell_type": "code",
   "execution_count": 20,
   "metadata": {
    "colab": {
     "base_uri": "https://localhost:8080/",
     "height": 353
    },
    "colab_type": "code",
    "id": "Oe_uxmOPcCao",
    "outputId": "fe00b514-0f80-4b8c-857c-6dd3a957a47e"
   },
   "outputs": [
    {
     "name": "stdout",
     "output_type": "stream",
     "text": [
      "=== creating mass functions ===\n",
      "m_1 = {{'chute'}:0.7; {'chute', 'n_chute'}:0.2; {'n_chute'}:0.1}\n",
      "m_2 = {{'chute'}:0.8; {'chute', 'n_chute'}:0.1; {'n_chute'}:0.1}\n"
     ]
    }
   ],
   "source": [
    "from pyds import MassFunction\n",
    "\n",
    "print('=== creating mass functions ===')\n",
    "m1 = MassFunction([({'chute'}, 0.7), ({'n_chute'}, 0.1), ({'chute','n_chute'}, 0.2)])\n",
    "print('m_1 =', m1)\n",
    "m2 = MassFunction([({'chute'}, 0.8), ({'n_chute'}, 0.1), ({'chute','n_chute'}, 0.1)]) # using a list of tuples\n",
    "print('m_2 =', m2)"
   ]
  },
  {
   "cell_type": "code",
   "execution_count": 21,
   "metadata": {
    "colab": {},
    "colab_type": "code",
    "id": "Lu3yK3_wGPbA"
   },
   "outputs": [
    {
     "name": "stdout",
     "output_type": "stream",
     "text": [
      "\n",
      "=== belief, plausibility, and commonality ===\n",
      "pl_1 = {frozenset(): 0.0, frozenset({'chute'}): 0.8999999999999999, frozenset({'n_chute'}): 0.30000000000000004, frozenset({'chute', 'n_chute'}): 1.0}\n",
      "pl_2 = {frozenset(): 0.0, frozenset({'chute'}): 0.9, frozenset({'n_chute'}): 0.2, frozenset({'chute', 'n_chute'}): 1.0}\n",
      "bel_1 = {frozenset(): 0.0, frozenset({'chute'}): 0.7, frozenset({'n_chute'}): 0.1, frozenset({'chute', 'n_chute'}): 1.0}\n",
      "bel_2 = {frozenset(): 0.0, frozenset({'chute'}): 0.8, frozenset({'n_chute'}): 0.1, frozenset({'chute', 'n_chute'}): 1.0}\n",
      "Dempster's combination rule for m_1 and m_2 = {{'chute'}:0.9294117647058823; {'n_chute'}:0.04705882352941178; {'chute', 'n_chute'}:0.02352941176470589}\n"
     ]
    }
   ],
   "source": [
    "print('\\n=== belief, plausibility, and commonality ===')\n",
    "print('pl_1 =', m1.pl())\n",
    "print('pl_2 =',m2.pl())\n",
    "print('bel_1 =', m1.bel()) # entire belief function\n",
    "print('bel_2 =', m2.bel())\n",
    "print('Dempster\\'s combination rule for m_1 and m_2 =', m1 & m2)"
   ]
  },
  {
   "cell_type": "markdown",
   "metadata": {
    "colab_type": "text",
    "id": "qEfmbixnGPbC"
   },
   "source": [
    "Selon le résultat de la combinaison de DS, nous pouvons voir que l'événement «chute» a la valeur de fonction masse la plus élevée (près de 1), nous pouvons donc penser que le résultat de la combinaison de ces deux détecteurs détermine que la «chute» s'est produite."
   ]
  }
 ],
 "metadata": {
  "colab": {
   "collapsed_sections": [
    "Nh-M-3Us8Znb",
    "VuZHLLaE4hDC"
   ],
   "name": "SVM.ipynb",
   "provenance": []
  },
  "kernelspec": {
   "display_name": "Python 3",
   "language": "python",
   "name": "python3"
  },
  "language_info": {
   "codemirror_mode": {
    "name": "ipython",
    "version": 3
   },
   "file_extension": ".py",
   "mimetype": "text/x-python",
   "name": "python",
   "nbconvert_exporter": "python",
   "pygments_lexer": "ipython3",
   "version": "3.7.4"
  },
  "toc": {
   "base_numbering": 1,
   "nav_menu": {},
   "number_sections": false,
   "sideBar": true,
   "skip_h1_title": false,
   "title_cell": "Table of Contents",
   "title_sidebar": "Contents",
   "toc_cell": false,
   "toc_position": {},
   "toc_section_display": true,
   "toc_window_display": false
  }
 },
 "nbformat": 4,
 "nbformat_minor": 1
}
